{
 "cells": [
  {
   "cell_type": "markdown",
   "id": "d7077de7",
   "metadata": {},
   "source": [
    "<h1 style=\"text-align: center;\">Linear Regression Analysis</h1>\n",
    "<h1 style=\"text-align: center;\">Homework 1</h1>\n",
    "<h3 style=\"text-align: center;\">Brandon Miner</h3>\n",
    "<h3 style=\"text-align: center;\">September 4, 2025</h3>\n"
   ]
  },
  {
   "cell_type": "markdown",
   "id": "73da7be7",
   "metadata": {},
   "source": [
    "Directions: Submit a .pdf file containing your responses. The .pdf can be converted from a Latex file,\n",
    "pictures of your handwritten solutions, word files, markdown files, etc. If there are coding problems, upload\n",
    "a separate notebook for Python code."
   ]
  },
  {
   "cell_type": "markdown",
   "id": "39097885",
   "metadata": {},
   "source": [
    "### Q1"
   ]
  },
  {
   "cell_type": "markdown",
   "id": "7d068e73",
   "metadata": {},
   "source": [
    "1. Consider the following statement: ”For the ordinary least squares method to be fully valid, it is required\n",
    "that the distribution of Y be normal.” Is this statement true or false, and why?"
   ]
  },
  {
   "cell_type": "markdown",
   "id": "5fbc0cbf",
   "metadata": {},
   "source": [
    "False because there is no assumption made for Linear Regression on the distribution of the outcome. To elaborate, we only make an assumption on the distribution of the error $\\epsilon_i$ in the classical case. Since $$Y_i=\\beta_0+\\beta_1X_i+\\epsilon_i$$ And of the variables on the right side of the equation, only $\\epsilon_i$ is a random variable, $Y_i$ has the distribution of the transformation of the random error. Therefore, $Y_i$ can have any distribution because the error doesn't have an assumed distribution (in the standard case)."
   ]
  },
  {
   "cell_type": "markdown",
   "id": "f261ee77",
   "metadata": {},
   "source": [
    "###"
   ]
  },
  {
   "cell_type": "markdown",
   "id": "b53ed353",
   "metadata": {},
   "source": [
    "2. Read section 1.8 of the textbook. When there is a Normal distribution assumption on the error terms,\n",
    "we can also formulate Maximum Likelihood Estimators for β0, β1, & σ2 . Use the likelihood function\n",
    "(1.26) to find the estimators ˆβ0, ˆβ1, & ˆσ2, and show that the estimators β0, β1, are the same as the\n",
    "Least Square estimators. You do not need to check second derivatives to prove the maximum values."
   ]
  },
  {
   "cell_type": "markdown",
   "id": "c649f429",
   "metadata": {},
   "source": [
    "We are given in the book\n",
    "$$L(\\beta_0,\\beta_1,\\sigma^2)=\\frac{1}{(2\\pi\\sigma)^{\\frac{n}{2}}}e^{\\frac{-\\sum^n_{i=1}(y_i-\\beta_0-\\beta_1x_i)^2}{2\\sigma^2}}$$\n",
    "We denote the log-likelihood function as $\\ell(\\beta_0,\\beta_1,\\sigma^2):=\\log(L(\\beta_0,\\beta_1,\\sigma^2))$.\n",
    "Hence,\n",
    "$$\\ell(\\beta_0,\\beta_1,\\sigma^2)=\\log(1)-\\frac{n}{2}\\log(2\\pi\\sigma^2)-\\frac{-\\sum^n_{i=1}(y_i-\\beta_0-\\beta_1x_i)^2}{2\\sigma^2}$$\n",
    "Recall that in LS $$Q(\\beta_0,\\beta_1)=\\sum^n_{i=1}(y_i-\\beta_0-\\beta_1x_i)^2$$\n",
    "Therefore,\n",
    "$$\\ell(\\beta_0,\\beta_1,\\sigma^2)=-\\frac{n}{2}\\log(2\\pi\\sigma^2)-\\frac{Q(\\beta_0,\\beta_1)}{2\\sigma^2}$$\n",
    "Since maximizing $\\ell(\\beta_0,\\beta_1,\\sigma^2)$ with respect to $\\beta_0,\\beta_1$ is equivalent to minimizing $Q(\\beta_0, \\beta_1)$, we know\n",
    "$$\\hat\\beta_0^{(MLE)}=\\hat\\beta_0^{(LS)}$$\n",
    "$$\\hat\\beta_1^{(MLE)}=\\hat\\beta_1^{(LS)}$$\n",
    "\n",
    "The MLE of $\\sigma^2$ can be derived by taking the partial derivative with respect to $\\sigma^2$\n",
    "$$\\frac{\\partial\\ell(\\beta_0,\\beta_1,\\sigma^2)}{\\partial\\sigma^2}=-\\frac{n}{2}\\cdot\\frac{1}{2\\pi\\sigma^2}\\cdot(2\\pi)-(\\frac{Q(\\beta_0,\\beta_1)}{2})(-1)(\\sigma^2)^{-2}$$\n",
    "We simplify and set to zero:\n",
    "$$-\\frac{n}{2\\sigma^2}+\\frac{Q(\\beta_0,\\beta_1)}{2}\\cdot\\frac{1}{\\sigma^4}\\stackrel{!}{=}0$$\n",
    "$$\\frac{n}{2\\sigma^2}=\\frac{Q(\\beta_0,\\beta_1)}{2\\sigma^4}$$\n",
    "$$2n\\sigma^4=2\\sigma^2Q(\\beta_0,\\beta_1)$$\n",
    "$$$$\n",
    "\n",
    "$$\\sigma^2=\\frac{Q(\\beta_0,\\beta_1)}{n}$$\n",
    "Thus,\n",
    "$$\\hat\\sigma^2_{(MLE)}=\\frac{\\sum^n_{i=1}(y_i-\\hat\\beta_0^{(MLE)}-\\hat\\beta_1^{(MLE)}x_i)^2}{n}$$"
   ]
  },
  {
   "cell_type": "markdown",
   "id": "33346314",
   "metadata": {},
   "source": [
    "###"
   ]
  },
  {
   "cell_type": "markdown",
   "id": "578e4933",
   "metadata": {},
   "source": [
    "3. The solution for the LS estimator of the slope in simple linear regression is:\n",
    "ˆβ1 =\n",
    "∑n\n",
    "i=1 xiyi −n ̄x ̄y∑n\n",
    "i=1 x2i −n ̄x2 .\n",
    "Prove that this expression is equivalent to the alternate formulation:\n",
    "ˆβ1 =\n",
    "∑n\n",
    "i=1(xi − ̄x)(yi − ̄y)∑n\n",
    "i=1(xi − ̄x)2 = SSXY\n",
    "SSX ."
   ]
  },
  {
   "cell_type": "markdown",
   "id": "bb51ce27",
   "metadata": {},
   "source": [
    "###"
   ]
  },
  {
   "cell_type": "markdown",
   "id": "f7440194",
   "metadata": {},
   "source": [
    "4. Recall that the residual for the ith observation is defined as ei = yi −ˆyi. Prove that E(ei) = 0."
   ]
  },
  {
   "cell_type": "markdown",
   "id": "753e13f8",
   "metadata": {},
   "source": [
    "###"
   ]
  },
  {
   "cell_type": "markdown",
   "id": "7f0536be",
   "metadata": {},
   "source": [
    "5. (a) When asked to state the simple linear regression model, a student wrote:\n",
    "E(Yi) = β0 + β1xi + εi.\n",
    "\n",
    "Do you agree? Why or why not?\n",
    "\n",
    "(b) Consider the classical simple linear regression model. Suppose that the true parameter values are\n",
    "β0 = 2, β1 = 4, and σ2 = 9. State the distributions of Y at x = 1,2, and 4, and explain how you\n",
    "found them."
   ]
  },
  {
   "cell_type": "markdown",
   "id": "39a4cce9",
   "metadata": {},
   "source": [
    "###"
   ]
  },
  {
   "cell_type": "markdown",
   "id": "c2a51b1b",
   "metadata": {},
   "source": [
    "6. Consider the Rotten Tomatoes movie rating example.\n",
    "\n",
    "(a) Interpret the slope and the intercept in the real-life context of the problem.\n",
    "\n",
    "(b) Suppose the Borderlands movie is about to be released and critics have given it a score of 8 (out\n",
    "of 100) on Rotten Tomatoes. Using the fitted simple linear regression line, what do we predict\n",
    "the audience rating will be?\n",
    "\n",
    "(c) What does the SLR prediction in (b) suggest about who the regression line thinks is the harsher\n",
    "judge: audiences or critics?\n",
    "\n",
    "(d) Suppose “The Quiet Place: Day One” movie is about to be released and critics have given it a\n",
    "score of 86 (out of 100) on Rotten Tomatoes. Using the fitted simple linear regression line, what\n",
    "do we predict the audience rating will be?\n",
    "\n",
    "(e) What does the SLR prediction (d) suggest about who the regression line thinks is the harsher\n",
    "judge: audiences or critics?\n",
    "\n",
    "(f) Consider your findings in (c) and (e). Provide a reasonable explanation as to how one can reconcile\n",
    "these two results.\n",
    "\n",
    "(g) What value of critic ratings will the SLR model predict the exact same score for audience ratings?\n",
    "Derive a general formula for this value in terms of ˆβ0 & ˆβ1."
   ]
  }
 ],
 "metadata": {
  "language_info": {
   "name": "python"
  }
 },
 "nbformat": 4,
 "nbformat_minor": 5
}
