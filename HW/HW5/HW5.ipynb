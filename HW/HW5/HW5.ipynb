{
 "cells": [
  {
   "cell_type": "markdown",
   "id": "2bc1e769",
   "metadata": {},
   "source": []
  }
 ],
 "metadata": {
  "language_info": {
   "name": "python"
  }
 },
 "nbformat": 4,
 "nbformat_minor": 5
}
