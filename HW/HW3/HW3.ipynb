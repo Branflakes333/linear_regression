{
 "cells": [
  {
   "cell_type": "markdown",
   "id": "e2c5f141",
   "metadata": {},
   "source": [
    "<h1 style=\"text-align: center;\">Linear Regression Analysis</h1>\n",
    "<h1 style=\"text-align: center;\">Homework 3</h1>\n",
    "<h3 style=\"text-align: center;\">Brandon Miner</h3>\n",
    "<h3 style=\"text-align: center;\">September 10, 2025</h3>"
   ]
  },
  {
   "cell_type": "markdown",
   "id": "6fe764a4",
   "metadata": {},
   "source": [
    "### Written Questions"
   ]
  },
  {
   "cell_type": "markdown",
   "id": "66f19aab",
   "metadata": {},
   "source": [
    "1. Set up the $X$ matrix and $\\beta$ vector for each of the following regression models (assume $i=1,\\dots,5$):"
   ]
  },
  {
   "cell_type": "markdown",
   "id": "630b3433",
   "metadata": {},
   "source": [
    "a. $Y_i=\\beta_1X_{i1}+\\beta_2X_{i2}+\\beta_3X_{i1}^2+\\epsilon_i$"
   ]
  },
  {
   "cell_type": "markdown",
   "id": "3c89b149",
   "metadata": {},
   "source": [
    "$$\n",
    "X = \\begin{bmatrix}\n",
    "1 & x_{11} & x_{12} & x_{11}^2 \\\\\n",
    "1 & x_{21} & x_{22} & x_{21}^2 \\\\\n",
    "1 & x_{31} & x_{32} & x_{31}^2 \\\\\n",
    "1 & x_{41} & x_{42} & x_{41}^2 \\\\\n",
    "1 & x_{51} & x_{52} & x_{51}^2 \\\\\n",
    "\\end{bmatrix}, \\beta = \\begin{bmatrix}\n",
    "0 \\\\ \\beta_1 \\\\ \\beta_2 \\\\ \\beta_3\n",
    "\\end{bmatrix},\n",
    "\\hat Y = X\\beta\n",
    "$$"
   ]
  },
  {
   "cell_type": "markdown",
   "id": "cefb235e",
   "metadata": {},
   "source": [
    "b. $\\sqrt{Y_i}=\\beta_0+\\beta_1X_{i1}+\\beta_2\\log_{10}X_{i2}+\\epsilon_i$"
   ]
  },
  {
   "cell_type": "markdown",
   "id": "23850927",
   "metadata": {},
   "source": [
    "$$\n",
    "X = \\begin{bmatrix}\n",
    "1 & x_{11} & \\log{x_{12}} \\\\\n",
    "1 & x_{21} & \\log{x_{22}} \\\\\n",
    "1 & x_{31} & \\log{x_{32}} \\\\\n",
    "1 & x_{41} & \\log{x_{42}} \\\\\n",
    "1 & x_{51} & \\log{x_{52}} \\\\\n",
    "\\end{bmatrix}, \n",
    "\\beta = \\begin{bmatrix} \\beta_0 \\\\ \\beta_1 \\\\ \\beta_2 \\end{bmatrix}, \n",
    "\\hat Y = \\beta^TX^TX\\beta\n",
    "$$"
   ]
  },
  {
   "cell_type": "markdown",
   "id": "ff8bb008",
   "metadata": {},
   "source": [
    "2. A student stated: “Adding predictor variables to a regression model can never reduce $R^2$, so we should include all available predictor variables in the model.\" Comment"
   ]
  },
  {
   "cell_type": "markdown",
   "id": "9b06db5d",
   "metadata": {},
   "source": [
    "This actually highlights the issue with $R^2$ which is artificially increases as you add predictors, but this doesn't actually mean the model is more accurate or more precise.\n",
    "Adjusted $R^2$ exists for the sole purpose of fixing this issue, to make $R^2$ practically useful for diagnostics."
   ]
  },
  {
   "cell_type": "markdown",
   "id": "e440f2be",
   "metadata": {},
   "source": [
    "3. Consider the multiple regression model: \n",
    "$$Y_i=\\beta_1X_{i1}+\\beta_2x_{i2}+\\epsilon_i,\\qquad i=1,\\dots,n$$\n",
    "where the $\\epsilon_i$ are uncorrelated, with $E(\\epsilon_1)=0$ and $\\text{Var}(\\epsilon_1)=\\sigma^2$"
   ]
  },
  {
   "cell_type": "markdown",
   "id": "db16e580",
   "metadata": {},
   "source": [
    "a. State the least squares criterion and derive the least squares estimators of $\\beta_1$ and $\\beta_2$."
   ]
  },
  {
   "cell_type": "markdown",
   "id": "17ba6d8c",
   "metadata": {},
   "source": [
    "The least squares criterion is the $\\stackrel{\\text{argmin}}{_{_{_{_\\beta}}}}\\mathbb Q(\\beta)$ where $\\mathbb Q(\\beta) = ||Y-X\\beta||^2$.\n",
    "$$\\frac{\\partial \\mathbb Q}{\\partial\\beta}=\\frac{\\partial}{\\partial\\beta}(||Y-X\\beta||^2)=\\frac{\\partial}{\\partial\\beta}((Y-X\\beta)^T(Y-X\\beta))$$\n",
    "$$=\\frac{\\partial}{\\partial\\beta}(Y^TY-Y^TX\\beta-(X\\beta)^TY+(X\\beta)^T(X\\beta))$$\n",
    "$$=\\frac{\\partial}{\\partial\\beta}(Y^TY-2\\beta^TX^TY+\\beta^TX^TX\\beta)$$\n",
    "$$=-2(X^TY)+2(X^TX)\\beta\\stackrel{!}{=}0$$\n",
    "Solving for $\\beta$\n",
    "$$\\hat\\beta=(X^TX)^{-1}X^TY$$"
   ]
  },
  {
   "cell_type": "markdown",
   "id": "26ba5531",
   "metadata": {},
   "source": [
    "B. Assuming that $\\epsilon_i$ are independent normal random variables, state the likelihood function and obtain the maximum likelihood estimators of $\\beta_1$ and $\\beta_2$. Are these the same as the least squares estimators?"
   ]
  },
  {
   "cell_type": "markdown",
   "id": "66ae32b7",
   "metadata": {},
   "source": [
    "$$ L(\\beta | X) = \\prod^n_{i=1}\\mathbb Q(\\beta_i)$$\n",
    "$$\\ell(\\beta | X) = \\sum^n_{i=1}\\mathbb Q(\\beta_i)$$\n",
    "$$ = \\sum^n_{i=1} ||Y_i-X\\beta_i||^2$$\n",
    "$$ = \\sum^n_{i=1} (Y_i-X\\beta_i)T(Y-X\\beta_i)$$\n",
    "$$ = \\sum^n_{i=1} Y_i^TY_i - 2\\beta_iX^TY_i + \\beta_i^TX^TX\\beta_i$$\n",
    "$$ \\frac{\\partial\\ell}{\\partial\\beta} = \\sum^n_{i=1} -2(X^TY_i)+2(X^TX)\\beta_i\\stackrel!=0$$\n",
    "$$2\\sum^n_{i=1}(X^TX)\\beta_i = 2\\sum^n_{i=1}X^TY_i$$\n",
    "$$\\sum^n_{i=1}\\beta_i = (X^TX)^{-1}X^T\\sum^n_{i=1} Y_i$$\n",
    "$$\\hat\\beta = (X^TX)^{-1}X^TY$$\n",
    "\n",
    "From here we can easily see that the estimators are equivalent."
   ]
  },
  {
   "cell_type": "markdown",
   "id": "a702af15",
   "metadata": {},
   "source": [
    "4. An analyst wanted to fit the regression model\n",
    "$$Y_i=\\beta_0+\\beta_1X_{i1}+\\beta_2X_{i2}+\\beta_3x_{i3}+\\epsilon_i,\\qquad i=1,\\dots,n$$\n",
    "by the method of least squares when it is known that $\\beta_2=4$. How can the analyst obtain the desired fit by using a multiple regression computer program?"
   ]
  },
  {
   "cell_type": "markdown",
   "id": "861a8379",
   "metadata": {},
   "source": [
    "Instead of regressing $X_1,X_2,X_3$ onto Y, we can define a new column $Y-\\beta_2X_2$ and regress $X_1,X_3$ onto $Y-\\beta_2X_2$. This works because our new model we are trying to estimate is $$Y_i-\\beta_2X_{i2} = \\beta_0 + \\beta_1X_{i1} + \\beta_3X_{i3}+\\epsilon_i$$\n",
    "Since we know $\\beta_2=4$, we can actually derive $Y_i-4X_{i2}$.\n",
    "\n",
    "Code concept:\n",
    "```python\n",
    "data  # dataframe of Y,X_1,X_2,X_3\n",
    "data[\"Y-beta_2\"] = data[\"Y\"] - 4*data[\"X_2\"]\n",
    "\n",
    "model = smf.ols(\"Y-beta_2~X_1+X_3\").fit()\n",
    "```"
   ]
  },
  {
   "cell_type": "markdown",
   "id": "14834cae",
   "metadata": {},
   "source": [
    "5. In a small-scale regression study, the following data were obtained:\n",
    "\n",
    "| $i$ | 1 | 2 | 3 | 4 | 5 | 6 |\n",
    "| - | - | - | - | - | - | - |\n",
    "| $X_{i1}$ | 7 | 4 | 16 | 3 | 21 | 8 |\n",
    "| $X_{i2}$ | 33 | 41 | 7 | 49 | 5 | 31 |\n",
    "| $Y_i$ | 42 | 33 | 75 | 28 | 91 | 55 |\n",
    "\n",
    "Assume that regression model with independent normal error terms is appropriate. Using matrix\n",
    "methods, obtain: (a) $\\hat\\beta$; (b) $e$; (c) $H$; (d) $SSR$; (e) $\\widehat{SE}(\\hat\\beta)$; (f) $\\hat Y_h$ when $X_{h1}=10$, $X_{h2}=30$; and (g) $\\widehat{SE}(\\hat Y_h)$ when $X_{h1}=10$, $X_{h2}=30$.\n",
    "\n",
    "Write down matrix $X$ and vector $y$, and the formula to calculate each value before giving the answers. You can do the matrix calculation using Python matrix multiplication or any calculator. Do NOT use Python packages to fit the model and read the output directly."
   ]
  },
  {
   "cell_type": "code",
   "execution_count": 1,
   "id": "c5072e31",
   "metadata": {},
   "outputs": [],
   "source": [
    "import numpy as np"
   ]
  },
  {
   "cell_type": "markdown",
   "id": "0a8f4b55",
   "metadata": {},
   "source": [
    "(a) \n",
    "$$\\hat\\beta = (X^TX)^{-1}X^TY$$"
   ]
  },
  {
   "cell_type": "code",
   "execution_count": 17,
   "id": "3ffa62ef",
   "metadata": {},
   "outputs": [
    {
     "name": "stdout",
     "output_type": "stream",
     "text": [
      "beta_hat is [4.40479026 0.38033777]\n"
     ]
    }
   ],
   "source": [
    "X = np.array( [[ 7, 4,16, 3,21, 8],\n",
    "               [33,41, 7,49, 5,31]])\n",
    "X = X.T\n",
    "Y = np.array(  [42,33,75,28,91,55])\n",
    "beta_hat = np.linalg.inv(X.T @ X) @ X.T @ Y\n",
    "print(f\"beta_hat is {beta_hat}\")"
   ]
  },
  {
   "cell_type": "markdown",
   "id": "e8f57ed6",
   "metadata": {},
   "source": [
    "(b)\n",
    "$$\n",
    "e = Y - \\hat Y = Y - X\\hat\\beta = Y-X(X^TX)^{-1}X^TY\n",
    "$$"
   ]
  },
  {
   "cell_type": "code",
   "execution_count": 18,
   "id": "864d027c",
   "metadata": {},
   "outputs": [
    {
     "name": "stdout",
     "output_type": "stream",
     "text": [
      "the residuals are [-1.38467826 -0.21300967  1.8609915  -3.85092159 -3.40228423  7.97120702]\n"
     ]
    }
   ],
   "source": [
    "Y_hat = X @ beta_hat\n",
    "e = Y - Y_hat\n",
    "print(f\"the residuals are {e}\")"
   ]
  },
  {
   "cell_type": "markdown",
   "id": "cfffc429",
   "metadata": {},
   "source": [
    "(c)\n",
    "$$\n",
    "H = X\\hat\\beta=X(X^TX)^{-1}X^TY\n",
    "$$"
   ]
  },
  {
   "cell_type": "code",
   "execution_count": 19,
   "id": "c9d91dad",
   "metadata": {},
   "outputs": [
    {
     "name": "stdout",
     "output_type": "stream",
     "text": [
      "The hat matrix is [43.38467826 33.21300967 73.1390085  31.85092159 94.40228423 47.02879298]\n"
     ]
    }
   ],
   "source": [
    "H = X @ beta_hat\n",
    "print(f\"The hat matrix is {H}\")"
   ]
  },
  {
   "cell_type": "markdown",
   "id": "03ceabc3",
   "metadata": {},
   "source": [
    "(d)\n",
    "$$\n",
    "SSR = Y - \\bar y = Y - \\frac1n\\sum^n_{i=1}y_i\n",
    "$$"
   ]
  },
  {
   "cell_type": "code",
   "execution_count": 21,
   "id": "3c2e6f0c",
   "metadata": {},
   "outputs": [
    {
     "name": "stdout",
     "output_type": "stream",
     "text": [
      "The SSR is 3072.0\n"
     ]
    }
   ],
   "source": [
    "SSR = sum((Y-np.mean(Y))**2)\n",
    "print(f\"The SSR is {SSR}\")"
   ]
  },
  {
   "cell_type": "markdown",
   "id": "8c080663",
   "metadata": {},
   "source": [
    "(e)\n",
    "$$\n",
    "\\widehat{SE} (\\hat\\beta) = \\sqrt{\\widehat{\\text{Var}}(\\hat\\beta)} = \\sqrt{\\hat\\sigma^2(X^TX)^{-1}} = \\hat\\sigma(X^TX)^{-1/2}\n",
    "$$\n",
    "where $$\\hat\\sigma^2=\\frac{SSE}{n-p}$$"
   ]
  },
  {
   "cell_type": "code",
   "execution_count": 25,
   "id": "29b41616",
   "metadata": {},
   "outputs": [
    {
     "name": "stdout",
     "output_type": "stream",
     "text": [
      "The standard Error of beta_hat is\n",
      "[0.82511475 0.75135097]\n",
      "[0.75135097 0.30265768]\n"
     ]
    }
   ],
   "source": [
    "SSE = e.T @ e\n",
    "sigma_squared = SSE/(len(Y)-len(X.T))\n",
    "std_err_beta_hat = sigma_squared * (X.T @ X)**(-.5)\n",
    "print(f\"The standard Error of beta_hat is\\n{std_err_beta_hat[0]}\\n{std_err_beta_hat[1]}\")"
   ]
  },
  {
   "cell_type": "markdown",
   "id": "e432a167",
   "metadata": {},
   "source": [
    "(f)\n",
    "$$\n",
    "\\hat Y_h = X_h\\hat\\beta = \\begin{bmatrix} 10 & 30 \\end{bmatrix}\\hat\\beta\n",
    "$$"
   ]
  },
  {
   "cell_type": "code",
   "execution_count": 26,
   "id": "0e24fa12",
   "metadata": {},
   "outputs": [
    {
     "name": "stdout",
     "output_type": "stream",
     "text": [
      "Y_hat_h is 55.45803571578524\n"
     ]
    }
   ],
   "source": [
    "X_h = np.array([10,30])\n",
    "Y_hat_h = X_h @ beta_hat\n",
    "print(f\"Y_hat_h is {Y_hat_h}\")"
   ]
  },
  {
   "cell_type": "markdown",
   "id": "917e8f84",
   "metadata": {},
   "source": [
    "(g)\n",
    "$$\n",
    "\\widehat{SE}(\\hat Y_h) = \\widehat{SE}(\\beta_{h1}X_{h1} + \\beta_{h2}X_{h2}+\\epsilon_h) = \\sqrt{\\widehat{\\text{Var}}(\\epsilon_h)} = \\hat\\sigma\n",
    "$$"
   ]
  },
  {
   "cell_type": "code",
   "execution_count": 27,
   "id": "0bf5ce16",
   "metadata": {},
   "outputs": [
    {
     "name": "stdout",
     "output_type": "stream",
     "text": [
      "Variance, and therefore standard error is fixed for the fitted values to be the same as that of the error term, hence 23.842818226945976\n"
     ]
    }
   ],
   "source": [
    "print(f\"Variance, and therefore standard error is fixed for the fitted values to be the same as that of the error term, hence {sigma_squared}\")"
   ]
  },
  {
   "cell_type": "markdown",
   "id": "1f87fcc7",
   "metadata": {},
   "source": [
    "6. Consider the multiple linear regression model in the matrix form $Y = X\\beta + \\epsilon$ with \n",
    "$E(\\epsilon) = 0$ and $\\text{Var}(\\epsilon) = \\sigma^2I_n$. Let $\\hat\\beta$ be the least squares estimator of $\\beta$, $\\hat Y = X \\hat\\beta$ be the fitted values, and $e = Y − \\hat Y$ be the residuals. Express $\\text{Var}( \\hat\\beta)$, $\\text{Var}( \\hat Y )$, and $\\text{Var}(e)$ in terms of $\\sigma^2$ and $X$. Show your steps to obtain the expressions in detail."
   ]
  },
  {
   "cell_type": "markdown",
   "id": "ce18a34b",
   "metadata": {},
   "source": [
    "$\\text{Var}(\\hat\\beta)$: Given that\n",
    "$$Y\\sim N(X\\beta,\\sigma^2I)$$\n",
    "\n",
    "$$(X^TX)^{-1}X^TY\\sim N((X^TX)^{-1}X^TX\\beta, \\sigma^2(X^TX)^{-1}X^TI)$$\n",
    "\n",
    "$$\\hat\\beta\\sim N (\\beta, \\sigma^2(X^TX)^{-1}X^T)$$\n",
    "\n",
    "Therefore $\\text{Var}(\\hat\\beta) = \\sigma^2(X^TX)^{-1}X^T$\n",
    "\n",
    "$\\text{Var}(\\hat Y)$: Given that\n",
    "\n",
    "$$\\hat\\beta\\sim N (\\beta, \\sigma^2(X^TX)^{-1}X^T)$$\n",
    "\n",
    "$$X\\hat\\beta\\sim N(X\\beta, \\sigma^2H)$$\n",
    "\n",
    "$$\\hat Y\\sim N(X\\beta, \\sigma^2H)$$\n",
    "\n",
    "Therefore $\\text{Var}(\\hat Y) = \\sigma^2H$\n",
    "\n",
    "$\\text{Var}(e)$: Given that\n",
    "$$Y\\sim N(X\\beta,\\sigma^2I),\\space \\hat Y\\sim N(X\\beta, \\sigma^2H)$$\n",
    "\n",
    "$$Y-\\hat Y \\sim N ( X\\beta - X\\beta , \\sigma^2I - \\sigma^2H)$$\n",
    "\n",
    "$$e \\sim N (0, \\sigma^2(I - H))$$\n",
    "\n",
    "Therefore $\\text{Var}(e) = \\sigma^2(I - H)$\n",
    "\n",
    "\n",
    "\n"
   ]
  },
  {
   "cell_type": "markdown",
   "id": "65a61d06",
   "metadata": {},
   "source": [
    "### Coding Questions"
   ]
  },
  {
   "cell_type": "code",
   "execution_count": 59,
   "id": "619c9599",
   "metadata": {},
   "outputs": [],
   "source": [
    "import statsmodels.formula.api as smf\n",
    "import statsmodels.api as sm\n",
    "from scipy import stats\n",
    "import pandas as pd\n"
   ]
  },
  {
   "cell_type": "markdown",
   "id": "f087990f",
   "metadata": {},
   "source": [
    "1. The dataset \"insurance.csv\" contains information on the individuals’ medical costs billed by health\n",
    "insurance with the variables defined as below\n",
    "\n",
    "- age: age of primary beneficiary\n",
    "- sex: insurance contractor gender, female, male\n",
    "- bmi: Body mass index, providing an understanding of weights that are relatively high or low relative to height, objective index of body weight (kg/m2) using the ratio of height to weight\n",
    "- children: Number of children covered by health insurance / Number of dependents\n",
    "- smoker: Smoking\n",
    "- region: the beneficiary’s residential area in the US, northeast, southeast, southwest, northwest.\n",
    "- charges: Individual medical costs billed by health insurance\n",
    "\n",
    "Regress \"charges\" against \"age\", \"bmi\" and \"children\" (use the order: charges ∼age + bmi + childern) in Python"
   ]
  },
  {
   "cell_type": "code",
   "execution_count": 12,
   "id": "855b9faa",
   "metadata": {},
   "outputs": [
    {
     "data": {
      "text/html": [
       "<div>\n",
       "<style scoped>\n",
       "    .dataframe tbody tr th:only-of-type {\n",
       "        vertical-align: middle;\n",
       "    }\n",
       "\n",
       "    .dataframe tbody tr th {\n",
       "        vertical-align: top;\n",
       "    }\n",
       "\n",
       "    .dataframe thead th {\n",
       "        text-align: right;\n",
       "    }\n",
       "</style>\n",
       "<table border=\"1\" class=\"dataframe\">\n",
       "  <thead>\n",
       "    <tr style=\"text-align: right;\">\n",
       "      <th></th>\n",
       "      <th>age</th>\n",
       "      <th>sex</th>\n",
       "      <th>bmi</th>\n",
       "      <th>children</th>\n",
       "      <th>smoker</th>\n",
       "      <th>region</th>\n",
       "      <th>charges</th>\n",
       "    </tr>\n",
       "  </thead>\n",
       "  <tbody>\n",
       "    <tr>\n",
       "      <th>0</th>\n",
       "      <td>19</td>\n",
       "      <td>female</td>\n",
       "      <td>27.90</td>\n",
       "      <td>0</td>\n",
       "      <td>yes</td>\n",
       "      <td>southwest</td>\n",
       "      <td>16884.9240</td>\n",
       "    </tr>\n",
       "    <tr>\n",
       "      <th>1</th>\n",
       "      <td>18</td>\n",
       "      <td>male</td>\n",
       "      <td>33.77</td>\n",
       "      <td>1</td>\n",
       "      <td>no</td>\n",
       "      <td>southeast</td>\n",
       "      <td>1725.5523</td>\n",
       "    </tr>\n",
       "    <tr>\n",
       "      <th>2</th>\n",
       "      <td>28</td>\n",
       "      <td>male</td>\n",
       "      <td>33.00</td>\n",
       "      <td>3</td>\n",
       "      <td>no</td>\n",
       "      <td>southeast</td>\n",
       "      <td>4449.4620</td>\n",
       "    </tr>\n",
       "  </tbody>\n",
       "</table>\n",
       "</div>"
      ],
      "text/plain": [
       "   age     sex    bmi  children smoker     region     charges\n",
       "0   19  female  27.90         0    yes  southwest  16884.9240\n",
       "1   18    male  33.77         1     no  southeast   1725.5523\n",
       "2   28    male  33.00         3     no  southeast   4449.4620"
      ]
     },
     "execution_count": 12,
     "metadata": {},
     "output_type": "execute_result"
    }
   ],
   "source": [
    "data = pd.read_csv(\"../../data/insurance.csv\")\n",
    "data.head(3)"
   ]
  },
  {
   "cell_type": "markdown",
   "id": "58bdc611",
   "metadata": {},
   "source": [
    "(a) ONLY based on the model summary table (`model.summary()`), we have discussed several important things to look at when it comes to the model interpretation: Global F-test p-value, $R^2$\n",
    "and $R^2_a$, and t-test for individual coefficient. Comment on each values above from your model summary, what kind of conclusion you have about your model fit and significance of predictors so far"
   ]
  },
  {
   "cell_type": "code",
   "execution_count": 4,
   "id": "1a31af63",
   "metadata": {},
   "outputs": [
    {
     "data": {
      "text/html": [
       "<table class=\"simpletable\">\n",
       "<caption>OLS Regression Results</caption>\n",
       "<tr>\n",
       "  <th>Dep. Variable:</th>         <td>charges</td>     <th>  R-squared:         </th> <td>   0.120</td> \n",
       "</tr>\n",
       "<tr>\n",
       "  <th>Model:</th>                   <td>OLS</td>       <th>  Adj. R-squared:    </th> <td>   0.118</td> \n",
       "</tr>\n",
       "<tr>\n",
       "  <th>Method:</th>             <td>Least Squares</td>  <th>  F-statistic:       </th> <td>   60.69</td> \n",
       "</tr>\n",
       "<tr>\n",
       "  <th>Date:</th>             <td>Thu, 18 Sep 2025</td> <th>  Prob (F-statistic):</th> <td>8.80e-37</td> \n",
       "</tr>\n",
       "<tr>\n",
       "  <th>Time:</th>                 <td>18:40:33</td>     <th>  Log-Likelihood:    </th> <td> -14392.</td> \n",
       "</tr>\n",
       "<tr>\n",
       "  <th>No. Observations:</th>      <td>  1338</td>      <th>  AIC:               </th> <td>2.879e+04</td>\n",
       "</tr>\n",
       "<tr>\n",
       "  <th>Df Residuals:</th>          <td>  1334</td>      <th>  BIC:               </th> <td>2.881e+04</td>\n",
       "</tr>\n",
       "<tr>\n",
       "  <th>Df Model:</th>              <td>     3</td>      <th>                     </th>     <td> </td>    \n",
       "</tr>\n",
       "<tr>\n",
       "  <th>Covariance Type:</th>      <td>nonrobust</td>    <th>                     </th>     <td> </td>    \n",
       "</tr>\n",
       "</table>\n",
       "<table class=\"simpletable\">\n",
       "<tr>\n",
       "      <td></td>         <th>coef</th>     <th>std err</th>      <th>t</th>      <th>P>|t|</th>  <th>[0.025</th>    <th>0.975]</th>  \n",
       "</tr>\n",
       "<tr>\n",
       "  <th>Intercept</th> <td>-6916.2433</td> <td> 1757.480</td> <td>   -3.935</td> <td> 0.000</td> <td>-1.04e+04</td> <td>-3468.518</td>\n",
       "</tr>\n",
       "<tr>\n",
       "  <th>age</th>       <td>  239.9945</td> <td>   22.289</td> <td>   10.767</td> <td> 0.000</td> <td>  196.269</td> <td>  283.720</td>\n",
       "</tr>\n",
       "<tr>\n",
       "  <th>bmi</th>       <td>  332.0834</td> <td>   51.310</td> <td>    6.472</td> <td> 0.000</td> <td>  231.425</td> <td>  432.741</td>\n",
       "</tr>\n",
       "<tr>\n",
       "  <th>children</th>  <td>  542.8647</td> <td>  258.241</td> <td>    2.102</td> <td> 0.036</td> <td>   36.261</td> <td> 1049.468</td>\n",
       "</tr>\n",
       "</table>\n",
       "<table class=\"simpletable\">\n",
       "<tr>\n",
       "  <th>Omnibus:</th>       <td>325.395</td> <th>  Durbin-Watson:     </th> <td>   2.012</td> \n",
       "</tr>\n",
       "<tr>\n",
       "  <th>Prob(Omnibus):</th> <td> 0.000</td>  <th>  Jarque-Bera (JB):  </th> <td> 603.372</td> \n",
       "</tr>\n",
       "<tr>\n",
       "  <th>Skew:</th>          <td> 1.520</td>  <th>  Prob(JB):          </th> <td>9.54e-132</td>\n",
       "</tr>\n",
       "<tr>\n",
       "  <th>Kurtosis:</th>      <td> 4.255</td>  <th>  Cond. No.          </th> <td>    290.</td> \n",
       "</tr>\n",
       "</table><br/><br/>Notes:<br/>[1] Standard Errors assume that the covariance matrix of the errors is correctly specified."
      ],
      "text/latex": [
       "\\begin{center}\n",
       "\\begin{tabular}{lclc}\n",
       "\\toprule\n",
       "\\textbf{Dep. Variable:}    &     charges      & \\textbf{  R-squared:         } &     0.120   \\\\\n",
       "\\textbf{Model:}            &       OLS        & \\textbf{  Adj. R-squared:    } &     0.118   \\\\\n",
       "\\textbf{Method:}           &  Least Squares   & \\textbf{  F-statistic:       } &     60.69   \\\\\n",
       "\\textbf{Date:}             & Thu, 18 Sep 2025 & \\textbf{  Prob (F-statistic):} &  8.80e-37   \\\\\n",
       "\\textbf{Time:}             &     18:40:33     & \\textbf{  Log-Likelihood:    } &   -14392.   \\\\\n",
       "\\textbf{No. Observations:} &        1338      & \\textbf{  AIC:               } & 2.879e+04   \\\\\n",
       "\\textbf{Df Residuals:}     &        1334      & \\textbf{  BIC:               } & 2.881e+04   \\\\\n",
       "\\textbf{Df Model:}         &           3      & \\textbf{                     } &             \\\\\n",
       "\\textbf{Covariance Type:}  &    nonrobust     & \\textbf{                     } &             \\\\\n",
       "\\bottomrule\n",
       "\\end{tabular}\n",
       "\\begin{tabular}{lcccccc}\n",
       "                   & \\textbf{coef} & \\textbf{std err} & \\textbf{t} & \\textbf{P$> |$t$|$} & \\textbf{[0.025} & \\textbf{0.975]}  \\\\\n",
       "\\midrule\n",
       "\\textbf{Intercept} &   -6916.2433  &     1757.480     &    -3.935  &         0.000        &    -1.04e+04    &    -3468.518     \\\\\n",
       "\\textbf{age}       &     239.9945  &       22.289     &    10.767  &         0.000        &      196.269    &      283.720     \\\\\n",
       "\\textbf{bmi}       &     332.0834  &       51.310     &     6.472  &         0.000        &      231.425    &      432.741     \\\\\n",
       "\\textbf{children}  &     542.8647  &      258.241     &     2.102  &         0.036        &       36.261    &     1049.468     \\\\\n",
       "\\bottomrule\n",
       "\\end{tabular}\n",
       "\\begin{tabular}{lclc}\n",
       "\\textbf{Omnibus:}       & 325.395 & \\textbf{  Durbin-Watson:     } &     2.012  \\\\\n",
       "\\textbf{Prob(Omnibus):} &   0.000 & \\textbf{  Jarque-Bera (JB):  } &   603.372  \\\\\n",
       "\\textbf{Skew:}          &   1.520 & \\textbf{  Prob(JB):          } & 9.54e-132  \\\\\n",
       "\\textbf{Kurtosis:}      &   4.255 & \\textbf{  Cond. No.          } &      290.  \\\\\n",
       "\\bottomrule\n",
       "\\end{tabular}\n",
       "%\\caption{OLS Regression Results}\n",
       "\\end{center}\n",
       "\n",
       "Notes: \\newline\n",
       " [1] Standard Errors assume that the covariance matrix of the errors is correctly specified."
      ],
      "text/plain": [
       "<class 'statsmodels.iolib.summary.Summary'>\n",
       "\"\"\"\n",
       "                            OLS Regression Results                            \n",
       "==============================================================================\n",
       "Dep. Variable:                charges   R-squared:                       0.120\n",
       "Model:                            OLS   Adj. R-squared:                  0.118\n",
       "Method:                 Least Squares   F-statistic:                     60.69\n",
       "Date:                Thu, 18 Sep 2025   Prob (F-statistic):           8.80e-37\n",
       "Time:                        18:40:33   Log-Likelihood:                -14392.\n",
       "No. Observations:                1338   AIC:                         2.879e+04\n",
       "Df Residuals:                    1334   BIC:                         2.881e+04\n",
       "Df Model:                           3                                         \n",
       "Covariance Type:            nonrobust                                         \n",
       "==============================================================================\n",
       "                 coef    std err          t      P>|t|      [0.025      0.975]\n",
       "------------------------------------------------------------------------------\n",
       "Intercept  -6916.2433   1757.480     -3.935      0.000   -1.04e+04   -3468.518\n",
       "age          239.9945     22.289     10.767      0.000     196.269     283.720\n",
       "bmi          332.0834     51.310      6.472      0.000     231.425     432.741\n",
       "children     542.8647    258.241      2.102      0.036      36.261    1049.468\n",
       "==============================================================================\n",
       "Omnibus:                      325.395   Durbin-Watson:                   2.012\n",
       "Prob(Omnibus):                  0.000   Jarque-Bera (JB):              603.372\n",
       "Skew:                           1.520   Prob(JB):                    9.54e-132\n",
       "Kurtosis:                       4.255   Cond. No.                         290.\n",
       "==============================================================================\n",
       "\n",
       "Notes:\n",
       "[1] Standard Errors assume that the covariance matrix of the errors is correctly specified.\n",
       "\"\"\""
      ]
     },
     "execution_count": 4,
     "metadata": {},
     "output_type": "execute_result"
    }
   ],
   "source": [
    "model = smf.ols(\"charges~age+bmi+children\", data=data).fit()\n",
    "model.summary()"
   ]
  },
  {
   "cell_type": "markdown",
   "id": "1561d219",
   "metadata": {},
   "source": [
    "Both the $R^2$ and $R^2_a$ are extremely low which implies there is a lot of unexplained variance in the data, which implies the model is not a great predictor of the model. The global F-test p-value is very low which means that there is clearly a correlation between our predictors and response variable. Putting both pieces of evidence together, the predictors seem to be strong predictors of the response, but not a linear model."
   ]
  },
  {
   "cell_type": "markdown",
   "id": "e20c2e4b",
   "metadata": {},
   "source": [
    "(b) Run `sm.stats.anova_lm(model,typ=1)` to obtain sum_sq of “bmi” in the ANOVA is a sequential\n",
    "sum of squares of “bmi” which is defined as $SeqSS(bmi)=SSEreduced−SSEfull$.\n",
    "What is the reduced model and full model here? How do we interpret the p-value of “bmi” in\n",
    "this F-test?"
   ]
  },
  {
   "cell_type": "code",
   "execution_count": 9,
   "id": "c6c56795",
   "metadata": {},
   "outputs": [
    {
     "data": {
      "text/html": [
       "<div>\n",
       "<style scoped>\n",
       "    .dataframe tbody tr th:only-of-type {\n",
       "        vertical-align: middle;\n",
       "    }\n",
       "\n",
       "    .dataframe tbody tr th {\n",
       "        vertical-align: top;\n",
       "    }\n",
       "\n",
       "    .dataframe thead th {\n",
       "        text-align: right;\n",
       "    }\n",
       "</style>\n",
       "<table border=\"1\" class=\"dataframe\">\n",
       "  <thead>\n",
       "    <tr style=\"text-align: right;\">\n",
       "      <th></th>\n",
       "      <th>df</th>\n",
       "      <th>sum_sq</th>\n",
       "      <th>mean_sq</th>\n",
       "      <th>F</th>\n",
       "      <th>PR(&gt;F)</th>\n",
       "    </tr>\n",
       "  </thead>\n",
       "  <tbody>\n",
       "    <tr>\n",
       "      <th>age</th>\n",
       "      <td>1.0</td>\n",
       "      <td>1.753019e+10</td>\n",
       "      <td>1.753019e+10</td>\n",
       "      <td>135.546341</td>\n",
       "      <td>6.627851e-30</td>\n",
       "    </tr>\n",
       "    <tr>\n",
       "      <th>bmi</th>\n",
       "      <td>1.0</td>\n",
       "      <td>5.446449e+09</td>\n",
       "      <td>5.446449e+09</td>\n",
       "      <td>42.112843</td>\n",
       "      <td>1.211545e-10</td>\n",
       "    </tr>\n",
       "    <tr>\n",
       "      <th>children</th>\n",
       "      <td>1.0</td>\n",
       "      <td>5.715190e+08</td>\n",
       "      <td>5.715190e+08</td>\n",
       "      <td>4.419080</td>\n",
       "      <td>3.572625e-02</td>\n",
       "    </tr>\n",
       "    <tr>\n",
       "      <th>Residual</th>\n",
       "      <td>1334.0</td>\n",
       "      <td>1.725261e+11</td>\n",
       "      <td>1.293299e+08</td>\n",
       "      <td>NaN</td>\n",
       "      <td>NaN</td>\n",
       "    </tr>\n",
       "  </tbody>\n",
       "</table>\n",
       "</div>"
      ],
      "text/plain": [
       "              df        sum_sq       mean_sq           F        PR(>F)\n",
       "age          1.0  1.753019e+10  1.753019e+10  135.546341  6.627851e-30\n",
       "bmi          1.0  5.446449e+09  5.446449e+09   42.112843  1.211545e-10\n",
       "children     1.0  5.715190e+08  5.715190e+08    4.419080  3.572625e-02\n",
       "Residual  1334.0  1.725261e+11  1.293299e+08         NaN           NaN"
      ]
     },
     "execution_count": 9,
     "metadata": {},
     "output_type": "execute_result"
    }
   ],
   "source": [
    "sm.stats.anova_lm(model,typ=1)\n"
   ]
  },
  {
   "cell_type": "markdown",
   "id": "3b921c4f",
   "metadata": {},
   "source": [
    "The reduced model for \"bmi\" in the Sequential ANOVA is: $charges = -6916.2433 + 239.9945age$\n",
    "\n",
    "The full model for \"bmi\" in the Sequential ANOVA is: $charges = -6916.2433 + 239.9945age + 332.0834bmi$\n",
    "\n",
    "The p-value is the probability that \"bmi\" isn't a significant predictor of \"charges\" when compared to a model with just \"age\" as a predictor."
   ]
  },
  {
   "cell_type": "markdown",
   "id": "6bb19ec7",
   "metadata": {},
   "source": [
    "(c) Run `sm.stats.anova_lm(model,typ=2)` to obtain sum_sq of “bmi” in the anova is a partial sum of squares of “bmi” defined by $PartialSS(bmi) = SSEreduced −SSEfull$.\n",
    "What is the reduced model and full model here? How do we interpret the p-value of “bmi” in this F-test"
   ]
  },
  {
   "cell_type": "code",
   "execution_count": 10,
   "id": "11d80706",
   "metadata": {},
   "outputs": [
    {
     "data": {
      "text/html": [
       "<div>\n",
       "<style scoped>\n",
       "    .dataframe tbody tr th:only-of-type {\n",
       "        vertical-align: middle;\n",
       "    }\n",
       "\n",
       "    .dataframe tbody tr th {\n",
       "        vertical-align: top;\n",
       "    }\n",
       "\n",
       "    .dataframe thead th {\n",
       "        text-align: right;\n",
       "    }\n",
       "</style>\n",
       "<table border=\"1\" class=\"dataframe\">\n",
       "  <thead>\n",
       "    <tr style=\"text-align: right;\">\n",
       "      <th></th>\n",
       "      <th>sum_sq</th>\n",
       "      <th>df</th>\n",
       "      <th>F</th>\n",
       "      <th>PR(&gt;F)</th>\n",
       "    </tr>\n",
       "  </thead>\n",
       "  <tbody>\n",
       "    <tr>\n",
       "      <th>age</th>\n",
       "      <td>1.499426e+10</td>\n",
       "      <td>1.0</td>\n",
       "      <td>115.938067</td>\n",
       "      <td>5.533923e-26</td>\n",
       "    </tr>\n",
       "    <tr>\n",
       "      <th>bmi</th>\n",
       "      <td>5.417280e+09</td>\n",
       "      <td>1.0</td>\n",
       "      <td>41.887301</td>\n",
       "      <td>1.354882e-10</td>\n",
       "    </tr>\n",
       "    <tr>\n",
       "      <th>children</th>\n",
       "      <td>5.715190e+08</td>\n",
       "      <td>1.0</td>\n",
       "      <td>4.419080</td>\n",
       "      <td>3.572625e-02</td>\n",
       "    </tr>\n",
       "    <tr>\n",
       "      <th>Residual</th>\n",
       "      <td>1.725261e+11</td>\n",
       "      <td>1334.0</td>\n",
       "      <td>NaN</td>\n",
       "      <td>NaN</td>\n",
       "    </tr>\n",
       "  </tbody>\n",
       "</table>\n",
       "</div>"
      ],
      "text/plain": [
       "                sum_sq      df           F        PR(>F)\n",
       "age       1.499426e+10     1.0  115.938067  5.533923e-26\n",
       "bmi       5.417280e+09     1.0   41.887301  1.354882e-10\n",
       "children  5.715190e+08     1.0    4.419080  3.572625e-02\n",
       "Residual  1.725261e+11  1334.0         NaN           NaN"
      ]
     },
     "execution_count": 10,
     "metadata": {},
     "output_type": "execute_result"
    }
   ],
   "source": [
    "sm.stats.anova_lm(model,typ=2)"
   ]
  },
  {
   "cell_type": "markdown",
   "id": "82ef71f0",
   "metadata": {},
   "source": [
    "The reduced model for \"bmi\" in the Sequential ANOVA is: $charges = 239.9945age + 542.8647children$\n",
    "\n",
    "The full model for \"bmi\" in the Sequential ANOVA is: $charges = 239.9945age + 332.0834bmi + + 542.8647children$\n",
    "\n",
    "The p-value is the probability that \"bmi\" isn't a significant predictor of \"charges\" when compared to a model of all other predictors."
   ]
  },
  {
   "cell_type": "markdown",
   "id": "6d6338ce",
   "metadata": {},
   "source": [
    "2. A commercial real estate company evaluates age ($X_1$), operating expenses ($X_2$, in thousands of dollars), vacancy rate ($X_3$), total square footage ($X_4$) and rental rates ($Y$ , in thousands of dollars) for commercial properties in a large metropolitan area in order to provide clients with quantitative information upon which to make rental decisions. The data are taken from 81 suburban commercial properties. (The data can be found in `property.txt`; The first column is $Y$ , followed by $X_1, X_2, X_3, X_4$.) Consider the multiple linear regression model\n",
    "\n",
    "$$Y_i=\\beta_0+\\beta_1X_{1i}+\\beta_2X_{2i}+\\beta_3X_{3i}+\\beta_4X_{4i}+\\epsilon_i,i=1,\\dots,n,\\text{ with }\\epsilon_i\\stackrel{\\text{iid}}{\\sim} N(0,\\sigma^2)$$"
   ]
  },
  {
   "cell_type": "code",
   "execution_count": 29,
   "id": "e44a338f",
   "metadata": {},
   "outputs": [
    {
     "name": "stderr",
     "output_type": "stream",
     "text": [
      "/var/folders/09/4h25jfnn06q73576vknj8hz40000gn/T/ipykernel_23169/1786286897.py:1: FutureWarning: The 'delim_whitespace' keyword in pd.read_csv is deprecated and will be removed in a future version. Use ``sep='\\s+'`` instead\n",
      "  data = pd.read_csv('../../data/property.txt',\n"
     ]
    },
    {
     "data": {
      "text/html": [
       "<div>\n",
       "<style scoped>\n",
       "    .dataframe tbody tr th:only-of-type {\n",
       "        vertical-align: middle;\n",
       "    }\n",
       "\n",
       "    .dataframe tbody tr th {\n",
       "        vertical-align: top;\n",
       "    }\n",
       "\n",
       "    .dataframe thead th {\n",
       "        text-align: right;\n",
       "    }\n",
       "</style>\n",
       "<table border=\"1\" class=\"dataframe\">\n",
       "  <thead>\n",
       "    <tr style=\"text-align: right;\">\n",
       "      <th></th>\n",
       "      <th>rental_rates</th>\n",
       "      <th>age</th>\n",
       "      <th>expenses</th>\n",
       "      <th>vacancy_rate</th>\n",
       "      <th>square_footage</th>\n",
       "    </tr>\n",
       "  </thead>\n",
       "  <tbody>\n",
       "    <tr>\n",
       "      <th>0</th>\n",
       "      <td>13.5</td>\n",
       "      <td>1</td>\n",
       "      <td>5.02</td>\n",
       "      <td>0.14</td>\n",
       "      <td>123000</td>\n",
       "    </tr>\n",
       "    <tr>\n",
       "      <th>1</th>\n",
       "      <td>12.0</td>\n",
       "      <td>14</td>\n",
       "      <td>8.19</td>\n",
       "      <td>0.27</td>\n",
       "      <td>104079</td>\n",
       "    </tr>\n",
       "    <tr>\n",
       "      <th>2</th>\n",
       "      <td>10.5</td>\n",
       "      <td>16</td>\n",
       "      <td>3.00</td>\n",
       "      <td>0.00</td>\n",
       "      <td>39998</td>\n",
       "    </tr>\n",
       "  </tbody>\n",
       "</table>\n",
       "</div>"
      ],
      "text/plain": [
       "   rental_rates  age  expenses  vacancy_rate  square_footage\n",
       "0          13.5    1      5.02          0.14          123000\n",
       "1          12.0   14      8.19          0.27          104079\n",
       "2          10.5   16      3.00          0.00           39998"
      ]
     },
     "execution_count": 29,
     "metadata": {},
     "output_type": "execute_result"
    }
   ],
   "source": [
    "data = pd.read_csv('../../data/property.txt', \n",
    "                   delim_whitespace=True,\n",
    "                   header=None, \n",
    "                   names=[\"rental_rates\",\"age\",\"expenses\",\"vacancy_rate\",\"square_footage\"])\n",
    "data.head(3)"
   ]
  },
  {
   "cell_type": "markdown",
   "id": "ff9ad1ce",
   "metadata": {},
   "source": [
    "(a) Fit a model in Python and produce the summary table."
   ]
  },
  {
   "cell_type": "code",
   "execution_count": 31,
   "id": "f970b1a9",
   "metadata": {},
   "outputs": [
    {
     "data": {
      "text/html": [
       "<table class=\"simpletable\">\n",
       "<caption>OLS Regression Results</caption>\n",
       "<tr>\n",
       "  <th>Dep. Variable:</th>      <td>rental_rates</td>   <th>  R-squared:         </th> <td>   0.585</td>\n",
       "</tr>\n",
       "<tr>\n",
       "  <th>Model:</th>                   <td>OLS</td>       <th>  Adj. R-squared:    </th> <td>   0.563</td>\n",
       "</tr>\n",
       "<tr>\n",
       "  <th>Method:</th>             <td>Least Squares</td>  <th>  F-statistic:       </th> <td>   26.76</td>\n",
       "</tr>\n",
       "<tr>\n",
       "  <th>Date:</th>             <td>Thu, 18 Sep 2025</td> <th>  Prob (F-statistic):</th> <td>7.27e-14</td>\n",
       "</tr>\n",
       "<tr>\n",
       "  <th>Time:</th>                 <td>19:21:16</td>     <th>  Log-Likelihood:    </th> <td> -122.75</td>\n",
       "</tr>\n",
       "<tr>\n",
       "  <th>No. Observations:</th>      <td>    81</td>      <th>  AIC:               </th> <td>   255.5</td>\n",
       "</tr>\n",
       "<tr>\n",
       "  <th>Df Residuals:</th>          <td>    76</td>      <th>  BIC:               </th> <td>   267.5</td>\n",
       "</tr>\n",
       "<tr>\n",
       "  <th>Df Model:</th>              <td>     4</td>      <th>                     </th>     <td> </td>   \n",
       "</tr>\n",
       "<tr>\n",
       "  <th>Covariance Type:</th>      <td>nonrobust</td>    <th>                     </th>     <td> </td>   \n",
       "</tr>\n",
       "</table>\n",
       "<table class=\"simpletable\">\n",
       "<tr>\n",
       "         <td></td>           <th>coef</th>     <th>std err</th>      <th>t</th>      <th>P>|t|</th>  <th>[0.025</th>    <th>0.975]</th>  \n",
       "</tr>\n",
       "<tr>\n",
       "  <th>Intercept</th>      <td>   12.2006</td> <td>    0.578</td> <td>   21.110</td> <td> 0.000</td> <td>   11.049</td> <td>   13.352</td>\n",
       "</tr>\n",
       "<tr>\n",
       "  <th>age</th>            <td>   -0.1420</td> <td>    0.021</td> <td>   -6.655</td> <td> 0.000</td> <td>   -0.185</td> <td>   -0.100</td>\n",
       "</tr>\n",
       "<tr>\n",
       "  <th>expenses</th>       <td>    0.2820</td> <td>    0.063</td> <td>    4.464</td> <td> 0.000</td> <td>    0.156</td> <td>    0.408</td>\n",
       "</tr>\n",
       "<tr>\n",
       "  <th>vacancy_rate</th>   <td>    0.6193</td> <td>    1.087</td> <td>    0.570</td> <td> 0.570</td> <td>   -1.545</td> <td>    2.784</td>\n",
       "</tr>\n",
       "<tr>\n",
       "  <th>square_footage</th> <td> 7.924e-06</td> <td> 1.38e-06</td> <td>    5.722</td> <td> 0.000</td> <td> 5.17e-06</td> <td> 1.07e-05</td>\n",
       "</tr>\n",
       "</table>\n",
       "<table class=\"simpletable\">\n",
       "<tr>\n",
       "  <th>Omnibus:</th>       <td> 1.922</td> <th>  Durbin-Watson:     </th> <td>   1.580</td>\n",
       "</tr>\n",
       "<tr>\n",
       "  <th>Prob(Omnibus):</th> <td> 0.383</td> <th>  Jarque-Bera (JB):  </th> <td>   1.301</td>\n",
       "</tr>\n",
       "<tr>\n",
       "  <th>Skew:</th>          <td> 0.148</td> <th>  Prob(JB):          </th> <td>   0.522</td>\n",
       "</tr>\n",
       "<tr>\n",
       "  <th>Kurtosis:</th>      <td> 3.545</td> <th>  Cond. No.          </th> <td>1.74e+06</td>\n",
       "</tr>\n",
       "</table><br/><br/>Notes:<br/>[1] Standard Errors assume that the covariance matrix of the errors is correctly specified.<br/>[2] The condition number is large, 1.74e+06. This might indicate that there are<br/>strong multicollinearity or other numerical problems."
      ],
      "text/latex": [
       "\\begin{center}\n",
       "\\begin{tabular}{lclc}\n",
       "\\toprule\n",
       "\\textbf{Dep. Variable:}    &  rental\\_rates   & \\textbf{  R-squared:         } &     0.585   \\\\\n",
       "\\textbf{Model:}            &       OLS        & \\textbf{  Adj. R-squared:    } &     0.563   \\\\\n",
       "\\textbf{Method:}           &  Least Squares   & \\textbf{  F-statistic:       } &     26.76   \\\\\n",
       "\\textbf{Date:}             & Thu, 18 Sep 2025 & \\textbf{  Prob (F-statistic):} &  7.27e-14   \\\\\n",
       "\\textbf{Time:}             &     19:21:16     & \\textbf{  Log-Likelihood:    } &   -122.75   \\\\\n",
       "\\textbf{No. Observations:} &          81      & \\textbf{  AIC:               } &     255.5   \\\\\n",
       "\\textbf{Df Residuals:}     &          76      & \\textbf{  BIC:               } &     267.5   \\\\\n",
       "\\textbf{Df Model:}         &           4      & \\textbf{                     } &             \\\\\n",
       "\\textbf{Covariance Type:}  &    nonrobust     & \\textbf{                     } &             \\\\\n",
       "\\bottomrule\n",
       "\\end{tabular}\n",
       "\\begin{tabular}{lcccccc}\n",
       "                         & \\textbf{coef} & \\textbf{std err} & \\textbf{t} & \\textbf{P$> |$t$|$} & \\textbf{[0.025} & \\textbf{0.975]}  \\\\\n",
       "\\midrule\n",
       "\\textbf{Intercept}       &      12.2006  &        0.578     &    21.110  &         0.000        &       11.049    &       13.352     \\\\\n",
       "\\textbf{age}             &      -0.1420  &        0.021     &    -6.655  &         0.000        &       -0.185    &       -0.100     \\\\\n",
       "\\textbf{expenses}        &       0.2820  &        0.063     &     4.464  &         0.000        &        0.156    &        0.408     \\\\\n",
       "\\textbf{vacancy\\_rate}   &       0.6193  &        1.087     &     0.570  &         0.570        &       -1.545    &        2.784     \\\\\n",
       "\\textbf{square\\_footage} &    7.924e-06  &     1.38e-06     &     5.722  &         0.000        &     5.17e-06    &     1.07e-05     \\\\\n",
       "\\bottomrule\n",
       "\\end{tabular}\n",
       "\\begin{tabular}{lclc}\n",
       "\\textbf{Omnibus:}       &  1.922 & \\textbf{  Durbin-Watson:     } &    1.580  \\\\\n",
       "\\textbf{Prob(Omnibus):} &  0.383 & \\textbf{  Jarque-Bera (JB):  } &    1.301  \\\\\n",
       "\\textbf{Skew:}          &  0.148 & \\textbf{  Prob(JB):          } &    0.522  \\\\\n",
       "\\textbf{Kurtosis:}      &  3.545 & \\textbf{  Cond. No.          } & 1.74e+06  \\\\\n",
       "\\bottomrule\n",
       "\\end{tabular}\n",
       "%\\caption{OLS Regression Results}\n",
       "\\end{center}\n",
       "\n",
       "Notes: \\newline\n",
       " [1] Standard Errors assume that the covariance matrix of the errors is correctly specified. \\newline\n",
       " [2] The condition number is large, 1.74e+06. This might indicate that there are \\newline\n",
       " strong multicollinearity or other numerical problems."
      ],
      "text/plain": [
       "<class 'statsmodels.iolib.summary.Summary'>\n",
       "\"\"\"\n",
       "                            OLS Regression Results                            \n",
       "==============================================================================\n",
       "Dep. Variable:           rental_rates   R-squared:                       0.585\n",
       "Model:                            OLS   Adj. R-squared:                  0.563\n",
       "Method:                 Least Squares   F-statistic:                     26.76\n",
       "Date:                Thu, 18 Sep 2025   Prob (F-statistic):           7.27e-14\n",
       "Time:                        19:21:16   Log-Likelihood:                -122.75\n",
       "No. Observations:                  81   AIC:                             255.5\n",
       "Df Residuals:                      76   BIC:                             267.5\n",
       "Df Model:                           4                                         \n",
       "Covariance Type:            nonrobust                                         \n",
       "==================================================================================\n",
       "                     coef    std err          t      P>|t|      [0.025      0.975]\n",
       "----------------------------------------------------------------------------------\n",
       "Intercept         12.2006      0.578     21.110      0.000      11.049      13.352\n",
       "age               -0.1420      0.021     -6.655      0.000      -0.185      -0.100\n",
       "expenses           0.2820      0.063      4.464      0.000       0.156       0.408\n",
       "vacancy_rate       0.6193      1.087      0.570      0.570      -1.545       2.784\n",
       "square_footage  7.924e-06   1.38e-06      5.722      0.000    5.17e-06    1.07e-05\n",
       "==============================================================================\n",
       "Omnibus:                        1.922   Durbin-Watson:                   1.580\n",
       "Prob(Omnibus):                  0.383   Jarque-Bera (JB):                1.301\n",
       "Skew:                           0.148   Prob(JB):                        0.522\n",
       "Kurtosis:                       3.545   Cond. No.                     1.74e+06\n",
       "==============================================================================\n",
       "\n",
       "Notes:\n",
       "[1] Standard Errors assume that the covariance matrix of the errors is correctly specified.\n",
       "[2] The condition number is large, 1.74e+06. This might indicate that there are\n",
       "strong multicollinearity or other numerical problems.\n",
       "\"\"\""
      ]
     },
     "execution_count": 31,
     "metadata": {},
     "output_type": "execute_result"
    }
   ],
   "source": [
    "model = smf.ols(\"rental_rates~age+expenses+vacancy_rate+square_footage\",data=data).fit()\n",
    "model.summary()"
   ]
  },
  {
   "cell_type": "markdown",
   "id": "c4d135ab",
   "metadata": {},
   "source": [
    "(b) Compute the fitted values and residuals. Print the first 6 cases. Based on the residuals, give an estimate of  $\\sigma^2$."
   ]
  },
  {
   "cell_type": "code",
   "execution_count": 60,
   "id": "ea29dcfa",
   "metadata": {},
   "outputs": [
    {
     "data": {
      "text/html": [
       "<div>\n",
       "<style scoped>\n",
       "    .dataframe tbody tr th:only-of-type {\n",
       "        vertical-align: middle;\n",
       "    }\n",
       "\n",
       "    .dataframe tbody tr th {\n",
       "        vertical-align: top;\n",
       "    }\n",
       "\n",
       "    .dataframe thead th {\n",
       "        text-align: right;\n",
       "    }\n",
       "</style>\n",
       "<table border=\"1\" class=\"dataframe\">\n",
       "  <thead>\n",
       "    <tr style=\"text-align: right;\">\n",
       "      <th></th>\n",
       "      <th>Fitted Values</th>\n",
       "      <th>Residuals</th>\n",
       "    </tr>\n",
       "  </thead>\n",
       "  <tbody>\n",
       "    <tr>\n",
       "      <th>0</th>\n",
       "      <td>14.535672</td>\n",
       "      <td>-1.035672</td>\n",
       "    </tr>\n",
       "    <tr>\n",
       "      <th>1</th>\n",
       "      <td>13.513806</td>\n",
       "      <td>-1.513806</td>\n",
       "    </tr>\n",
       "    <tr>\n",
       "      <th>2</th>\n",
       "      <td>11.091053</td>\n",
       "      <td>-0.591053</td>\n",
       "    </tr>\n",
       "    <tr>\n",
       "      <th>3</th>\n",
       "      <td>15.133568</td>\n",
       "      <td>-0.133568</td>\n",
       "    </tr>\n",
       "    <tr>\n",
       "      <th>4</th>\n",
       "      <td>13.686716</td>\n",
       "      <td>0.313284</td>\n",
       "    </tr>\n",
       "  </tbody>\n",
       "</table>\n",
       "</div>"
      ],
      "text/plain": [
       "   Fitted Values  Residuals\n",
       "0      14.535672  -1.035672\n",
       "1      13.513806  -1.513806\n",
       "2      11.091053  -0.591053\n",
       "3      15.133568  -0.133568\n",
       "4      13.686716   0.313284"
      ]
     },
     "metadata": {},
     "output_type": "display_data"
    },
    {
     "name": "stdout",
     "output_type": "stream",
     "text": [
      "sigma-squared-hat = 0.05039\n"
     ]
    }
   ],
   "source": [
    "fitted_values = model.fittedvalues[:5]\n",
    "residuals = model.resid[:5]\n",
    "\n",
    "fitval_resid_df = pd.DataFrame({\n",
    "    \"Fitted Values\" : fitted_values,\n",
    "    \"Residuals\" : residuals\n",
    "})\n",
    "\n",
    "SSE = sum(residuals**2)\n",
    "\n",
    "display(fitval_resid_df)\n",
    "\n",
    "print(\n",
    "    f\"sigma-squared-hat = {\\\n",
    "        round(SSE / (model.df_resid), \n",
    "            5)}\")\n"
   ]
  },
  {
   "cell_type": "markdown",
   "id": "c8cca160",
   "metadata": {},
   "source": [
    "(c) Test whether $\\beta_2 = 0$ or not at 0.01 significance level. Interpret this coefficient in the real life terms of the problem."
   ]
  },
  {
   "cell_type": "code",
   "execution_count": 74,
   "id": "ba5b9d64",
   "metadata": {},
   "outputs": [
    {
     "name": "stdout",
     "output_type": "stream",
     "text": [
      "test-statistic = 4.464 > 0.839 = critical-value\n",
      "We reject the null hypothesis. Expenses (beta_2) is a statistically significant predictor of rental rates at a 0.01 significance level.\n"
     ]
    }
   ],
   "source": [
    "beta_2_t_value = model.tvalues['expenses']\n",
    "crit_val = stats.t.cdf(1-0.01/2,model.df_resid)\n",
    "\n",
    "if beta_2_t_value > crit_val:\n",
    "    print(f\"test-statistic = {abs(beta_2_t_value):.3f} > {abs(crit_val):.3f} = critical-value\")\n",
    "    print(\"We reject the null hypothesis. Expenses (beta_2) is a statistically significant predictor of rental rates at a 0.01 significance level.\")\n",
    "else:\n",
    "    print(f\"test-statistic = {abs(beta_2_t_value):.3f} < {abs(crit_val):.3f} = critical-value\")\n",
    "    print(\"We fail to reject the null hypothesis. We cannot say that expenses (beta_2) is a statistically significant predictor of rental rates at a 0.01 significance level.\")\n"
   ]
  },
  {
   "cell_type": "markdown",
   "id": "90768fb3",
   "metadata": {},
   "source": [
    "Test $H_0:\\beta_1=\\beta_2=0$ vs $H_a:$ either $\\beta_1$ or $\\beta_2$ not equal to 0."
   ]
  },
  {
   "cell_type": "code",
   "execution_count": 79,
   "id": "9e2797ad",
   "metadata": {},
   "outputs": [
    {
     "name": "stdout",
     "output_type": "stream",
     "text": [
      "F-statistic: 26.7555\n",
      "P-value of F-test: 7.271987454038193e-14\n",
      "We reject the null hypothesis. At least one parameter is a significant predictor of charges at a 0.5 level of significance.\n"
     ]
    }
   ],
   "source": [
    "f_statistic = model.fvalue\n",
    "f_pvalue = model.f_pvalue\n",
    "\n",
    "print(f\"F-statistic: {f_statistic:.4f}\")\n",
    "print(f\"P-value of F-test: {f_pvalue}\")\n",
    "\n",
    "if f_pvalue < 0.05:\n",
    "    print(\"We reject the null hypothesis. At least one parameter is a significant predictor of charges at a 0.5 level of significance.\")\n",
    "else:\n",
    "    print(\"We fail to reject the null hypothesis. We cannot say that at least one parameter is a significant predictor of charges at a 0.5 level of significance.\")\n"
   ]
  },
  {
   "cell_type": "markdown",
   "id": "edbb4402",
   "metadata": {},
   "source": [
    "(e) Consider a property with the following characteristics: $X_1 = 4,X_2 = 10,X_3 = 0.1,X_4 = 80000$. Give a 90% prediction interval for the rental rate."
   ]
  },
  {
   "cell_type": "code",
   "execution_count": 88,
   "id": "64d3259e",
   "metadata": {},
   "outputs": [
    {
     "name": "stdout",
     "output_type": "stream",
     "text": [
      "Given a house that is:\n",
      "- 4 years old\n",
      "- 10 thousand dollars of operating expenses\n",
      "- 0.1 vacancy rate\n",
      "- 80,000 sq footage\n",
      "\n",
      "The prediction interval is [12.852,17.444]\n"
     ]
    }
   ],
   "source": [
    "pred_obs = pd.DataFrame({\n",
    "    \"age\" : [4],\n",
    "    \"expenses\" : [10],\n",
    "    \"vacancy_rate\" : [0.1],\n",
    "    \"square_footage\" : [80000]\n",
    "})\n",
    "\n",
    "pred_stat = model.get_prediction(pred_obs)\n",
    "\n",
    "prediction_interval = pred_stat.summary_frame(alpha=0.05)\n",
    "pred_lower = prediction_interval['obs_ci_lower'][0]\n",
    "pred_upper = prediction_interval['obs_ci_upper'][0]\n",
    "\n",
    "print(\"Given a house that is:\")\n",
    "print(\"- 4 years old\")\n",
    "print(\"- 10 thousand dollars of operating expenses\")\n",
    "print(\"- 0.1 vacancy rate\")\n",
    "print(\"- 80,000 sq footage\")\n",
    "print(f\"\\nThe prediction interval is [{pred_lower:.3f},{pred_upper:.3f}]\")"
   ]
  }
 ],
 "metadata": {
  "kernelspec": {
   "display_name": "linear_regression",
   "language": "python",
   "name": "python3"
  },
  "language_info": {
   "codemirror_mode": {
    "name": "ipython",
    "version": 3
   },
   "file_extension": ".py",
   "mimetype": "text/x-python",
   "name": "python",
   "nbconvert_exporter": "python",
   "pygments_lexer": "ipython3",
   "version": "3.13.5"
  }
 },
 "nbformat": 4,
 "nbformat_minor": 5
}
