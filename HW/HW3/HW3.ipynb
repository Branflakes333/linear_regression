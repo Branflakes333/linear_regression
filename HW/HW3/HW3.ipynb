{
 "cells": [
  {
   "cell_type": "markdown",
   "id": "e2c5f141",
   "metadata": {},
   "source": [
    "<h1 style=\"text-align: center;\">Linear Regression Analysis</h1>\n",
    "<h1 style=\"text-align: center;\">Homework 3</h1>\n",
    "<h3 style=\"text-align: center;\">Brandon Miner</h3>\n",
    "<h3 style=\"text-align: center;\">September 10, 2025</h3>"
   ]
  },
  {
   "cell_type": "markdown",
   "id": "6fe764a4",
   "metadata": {},
   "source": [
    "### Written Questions"
   ]
  },
  {
   "cell_type": "markdown",
   "id": "66f19aab",
   "metadata": {},
   "source": [
    "1. Set up the $\\bold X$ matrix and $\\bold \\beta$ vector for each of the following regression models (assume $i=1,\\dots,5$):"
   ]
  },
  {
   "cell_type": "markdown",
   "id": "630b3433",
   "metadata": {},
   "source": [
    "a. $Y_i=\\beta_1X_{i1}+\\beta_2X_{i2}+\\beta_3X_{i1}^2+\\epsilon_i$"
   ]
  },
  {
   "cell_type": "markdown",
   "id": "3c89b149",
   "metadata": {},
   "source": [
    "$$\n",
    "X = \\begin{bmatrix}\n",
    "1 & x_{11} & x_{12} & x_{11}^2 \\\\\n",
    "1 & x_{21} & x_{22} & x_{21}^2 \\\\\n",
    "1 & x_{31} & x_{32} & x_{31}^2 \\\\\n",
    "1 & x_{41} & x_{42} & x_{41}^2 \\\\\n",
    "1 & x_{51} & x_{52} & x_{51}^2 \\\\\n",
    "\\end{bmatrix}, \\beta = \\begin{bmatrix}\n",
    "0 \\\\ \\beta_1 \\\\ \\beta_2 \\\\ \\beta_3\n",
    "\\end{bmatrix},\n",
    "\\hat Y = X\\beta\n",
    "$$"
   ]
  },
  {
   "cell_type": "markdown",
   "id": "cefb235e",
   "metadata": {},
   "source": [
    "b. $\\sqrt{Y_i}=\\beta_0+\\beta_1X_{i1}+\\beta_2\\log_{10}X_{i2}+\\epsilon_i$"
   ]
  },
  {
   "cell_type": "markdown",
   "id": "23850927",
   "metadata": {},
   "source": [
    "$$X = \\begin{bmatrix}\n",
    "1 & x_{11} & \\log{x_{12}} \\\\\n",
    "1 & x_{21} & \\log{x_{22}} \\\\\n",
    "1 & x_{31} & \\log{x_{32}} \\\\\n",
    "1 & x_{41} & \\log{x_{42}} \\\\\n",
    "1 & x_{51} & \\log{x_{52}} \\\\\n",
    "\\end{bmatrix}, \n",
    "\\beta = \\begin{bmatrix} \\beta_0 \\\\ \\beta_1 \\\\ \\beta_2 \\end{bmatrix}, \n",
    "\\hat Y = \\beta^TX^TX\\beta"
   ]
  },
  {
   "cell_type": "markdown",
   "id": "ff8bb008",
   "metadata": {},
   "source": [
    "2. A student stated: “Adding predictor variables to a regression model can never reduce $R^2$, so we should include all available predictor variables in the model.\" Comment"
   ]
  },
  {
   "cell_type": "markdown",
   "id": "9b06db5d",
   "metadata": {},
   "source": [
    "This actually highlights the issue with $R^2$ which is artificially increases as you add predictors, but this doesn't actually mean the model is more accurate or more precise.\n",
    "Adjusted $R^2$ exists for the sole purpose of fixing this issue, to make $R^2$ practically useful for diagnostics."
   ]
  },
  {
   "cell_type": "markdown",
   "id": "e440f2be",
   "metadata": {},
   "source": [
    "3. Consider the multiple regression model: \n",
    "$$Y_i=\\beta_1X_{i1}+\\beta_2x_{i2}+\\epsilon_i,\\qquad i=1,\\dots,n$$\n",
    "where the $\\epsilon_i$ are uncorrelated, with $E(\\epsilon_1)=0$ and $\\text{Var}(\\epsilon_1)=\\sigma^2$"
   ]
  },
  {
   "cell_type": "markdown",
   "id": "db16e580",
   "metadata": {},
   "source": [
    "a. State the least squares criterion and derive the least squares estimators of $\\beta_1$ and $\\beta_2$."
   ]
  },
  {
   "cell_type": "markdown",
   "id": "17ba6d8c",
   "metadata": {},
   "source": [
    "The least squares criterion is the $\\stackrel{\\text{argmin}}{_{_{_{_\\beta}}}}||Y-X\\beta||^2$.\n",
    "$$\\hat \\beta_1 = $$"
   ]
  },
  {
   "cell_type": "markdown",
   "id": "26ba5531",
   "metadata": {},
   "source": [
    "B. Assuming that $\\epsilon_i$ are independent normal random variables, state the likelihood function and obtain the maximum likelihood estimators of $\\beta_1$ and $\\beta_2$. Are these the same as the least squares estimators?"
   ]
  },
  {
   "cell_type": "markdown",
   "id": "66ae32b7",
   "metadata": {},
   "source": [
    "**ANSWER HERE**"
   ]
  },
  {
   "cell_type": "markdown",
   "id": "a702af15",
   "metadata": {},
   "source": [
    "4. An analyst wanted to fit the regression model\n",
    "$$Y_i=\\beta_0+\\beta_1X_{i1}+\\beta_2X_{i2}+\\beta_3x_{i3}+\\epsilon_i,\\qquad i=1,\\dots,n$$\n",
    "by the method of least squares when it is known that $\\beta_2=4$. How can the analyst obtain the desired fit by using a multiple regression computer program?"
   ]
  },
  {
   "cell_type": "markdown",
   "id": "861a8379",
   "metadata": {},
   "source": [
    "**ANSWER HERE**"
   ]
  },
  {
   "cell_type": "markdown",
   "id": "65a61d06",
   "metadata": {},
   "source": [
    "### Coding Questions"
   ]
  }
 ],
 "metadata": {
  "language_info": {
   "name": "python"
  }
 },
 "nbformat": 4,
 "nbformat_minor": 5
}
