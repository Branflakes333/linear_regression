{
 "cells": [
  {
   "cell_type": "markdown",
   "id": "dbf4548c",
   "metadata": {},
   "source": [
    "<h1 style=\"text-align: center;\">Linear Regression Analysis</h1>\n",
    "<h1 style=\"text-align: center;\">Homework 2</h1>\n",
    "<h3 style=\"text-align: center;\">Brandon Miner</h3>\n",
    "<h3 style=\"text-align: center;\">September 4, 2025</h3>"
   ]
  },
  {
   "cell_type": "markdown",
   "id": "2cc4465a",
   "metadata": {},
   "source": [
    "**Directions**: Submit a .pdf file containing your responses. The .pdf can be converted from a Latex file, pictures of your handwritten solutions, word files, markdown files, etc. If there are coding problems, upload a separate notebook for Python code.\n"
   ]
  },
  {
   "cell_type": "markdown",
   "id": "9c15f968",
   "metadata": {},
   "source": [
    "#### **Written Questions**"
   ]
  },
  {
   "cell_type": "markdown",
   "id": "bbf8bc6c",
   "metadata": {},
   "source": [
    "##### Q1"
   ]
  },
  {
   "cell_type": "markdown",
   "id": "b00203aa",
   "metadata": {},
   "source": [
    "1. A student working on a summer internship in the economic research department of a large corporation\n",
    "studied the relation between sales of a product ($Y$, in million dollars) and population ($X$, in million\n",
    "persons) in the firm’s $50$ marketing districts. The classical regression model with normal errors was\n",
    "employed. The student first wished to test whether or not a linear association between $Y$ and $X$ existed.\n",
    "The student accessed a simple linear regression program and obtained the following information on the\n",
    "regression coefficients:\n",
    "\n",
    "| Parameter | Estimated Value | 95 Percent Confidence Limits |\n",
    "| --------- | --------------- | ---------------------------- |\n",
    "| Intercept | $7.43119$ | $−1.18518,16.0476$ |\n",
    "| Slope | $0.755048$ | $0.452886, 1.05721$ |\n",
    "\n",
    "\n",
    "a. The student concluded from these results that there is a linear association between $Y$ and $X$. Is\n",
    "the conclusion warranted? What is the implied level of significance?\n",
    "\n",
    "**ANSWER** : It is warranted because the confidence interval of slope does not contain zero. The implied level of significance is $\\alpha=0.05$ since we have a $95\\%$ confidence interval $100(1-\\alpha)\\%=95\\%$). It is important to note that initial observations that the slope of \"close to zero\" or that the interval is close to containing zero\" cannot be interpreted at face value because it is stated that the population is in millions, implying that a change in just one person in a population is as insignificant as it sounds. But if a population changes in the thousands, then we can expect some significant change in the sales of product.\n",
    "\n",
    "b. Someone questioned the negative lower confidence limit for the intercept, pointing out that dollar\n",
    "sales cannot be negative even if the population in a district is zero. Discuss.\n",
    "\n",
    "**ANSWER** : Similar to the inference drawn in the end of (a), it must be realized that linear regression is just that, linear. We assumed some underlying shape of the correlation between population and product sales. The result of this is possibly unaccurate predictions at the tail(s) of the model. But this shouldn't be thought of as an issue because then we are talking about populations between zero and a million. A very large range that based on populations being in multiple millions is an edge-case of the marketing districts. Essentially, the model might be breaking down when we look at populations that are not accurate to the real world.This means we aren't losing true accuracy or interpretation. \n",
    "\n",
    "Furthermore, the confidence interval is derived assuming that the data is drawn from an output with error drawn from a normal distribution. While in theory this is fine, here we see a mismatch between assumption and reality since the normal distribution goes on for infinity in both direction, whereas sales of product can never actually go in the negative. \n",
    "\n",
    "Lastly, it could be that the true $\\beta_0=0$ based on the context of the data. We could refit a model with this assumpting to see if we get a more accurate model. "
   ]
  },
  {
   "cell_type": "markdown",
   "id": "30278c79",
   "metadata": {},
   "source": [
    "##### Q2"
   ]
  },
  {
   "cell_type": "markdown",
   "id": "2901bb96",
   "metadata": {},
   "source": [
    "2. A member of a student team playing an interactive marketing game received the following computer output when studying the relation between advertising expenditures ($X$) and sales ($Y$) for one of the\n",
    "team’s products:\n",
    "\n",
    "Estimated regression equation: $\\hat Y= 350.7−0.18X$ \n",
    "\n",
    "Two-sided p-value for estimated slope: $0.91$\n",
    "\n",
    "The student stated: “The message I get here is that the more we spend on advertising this product, the fewer units we sell!” Comment.\n",
    "\n",
    "**ANSWER** : The two-sided p-value is $0.91$, which implies that we should not be surprised at all by our data given we initially assume no correlation between $X$ and $Y$. This means that we cannot draw any inference from the model with any confidence. While the slope is negative, it could just as easily be positive or zero based on a different sampling. The takeaway should be that we cannot say conlusively that expenditures correlate to sales.\n"
   ]
  },
  {
   "cell_type": "markdown",
   "id": "eb6d9c7a",
   "metadata": {},
   "source": [
    "##### Q3"
   ]
  },
  {
   "cell_type": "markdown",
   "id": "3c6f58bc",
   "metadata": {},
   "source": [
    "3. For each of the following questions, explain whether a confidence interval for a mean response or a prediction interval for a new observation is appropriate.\n",
    "\n",
    "a. What will be the humidity level in this greenhouse tomorrow when we set the temperature level at $31^\\circ \\text{C}$?\n",
    "\n",
    "**ANSWER** : A prediction interval because we're considering an independent temperature level that wasn't necessarily inside of our training data, and for which we want the confidence of the prediction.\n",
    "\n",
    "b. How much do families whose disposable income is $\\$23,500$ spend, on the average, for meals away from home?\n",
    "\n",
    "**ANSWER** : Confidence interval because if we are interested in the average disposable income, then we can use the fact that $\\hat\\beta_0=\\bar y - \\hat\\beta_1\\bar x$ where $\\bar y$ is what we're interested in, and 4\\bar x$ is $\\$23,500$. We can construct a confidence interval of $\\bar y$ from this initial equation.\n",
    "\n",
    "c. How many kilowatt-hours of electricity will be consumed next month by commercial and industrial users in the Twin Cities service area, given that the index of business activity for the area remains at its present level?\n",
    "\n",
    "**ANSWER** : Prediction interval because we want to know kw-hrs for a specific index of business activity that just so happens to be related to last month. "
   ]
  },
  {
   "cell_type": "markdown",
   "id": "c4a6ffb3",
   "metadata": {},
   "source": [
    "##### Q4"
   ]
  },
  {
   "cell_type": "markdown",
   "id": "c82b2141",
   "metadata": {},
   "source": [
    "4. Using the classical regression model with normal errors in an engineering safety experiment, a researcher found for the first $10$ cases that $R^2$ was zero. Is it possible that for the complete set of 30 cases $R^2$ will not be zero? Could $R^2$ not be zero for the first $10$ cases, yet equal zero for all $30$ cases? Explain.\n",
    "\n",
    "**ANSWER** : Assuming \"cases\" refers to the number of data points tested on where there are 30 data points in total in the sample, then it is possible for $R^2$ to increase above 0 as you add more data points that either have more explained variance or just random noise. It is impossible for $R^2$ to be zero if the first 10 cases present an $R^2$ greater than zero because that explained variance will always stay in the model, even if it diminishes proportionally to the unexplained variance."
   ]
  },
  {
   "cell_type": "markdown",
   "id": "2b3bc166",
   "metadata": {},
   "source": [
    "##### Q5"
   ]
  },
  {
   "cell_type": "markdown",
   "id": "de051d33",
   "metadata": {},
   "source": [
    "5. Recall the following statement about in-sample predictions: Assuming (x i, yi) belongs to the training\n",
    "sample we have used to fit the SLR, then the residuale ihas mean 0 and variance $\\sigma^2[1-\\frac1n-\\frac{(x_i-\\bar x)^2}{SSX}]$. Now imagine after fitting a regression line and obtaining the parameter estimates $\\hat\\beta_0$ and $\\hat\\beta_1$, we are predicting an observation that’s out of sample, i.e. the observation has independent variable value $X=x_0$, where $x_0$ does not belong to the data used to fit the model. The true response variable\n",
    "$$y_0=\\beta_0+\\beta_1x_0+\\epsilon_0$$\n",
    "is predicted by\n",
    "$$\\hat y_0=\\hat\\beta_0+\\hat\\beta_1x_0$$\n",
    "What is the mean and variance of the out-of-sample prediction bias $e_0=y_0−\\hat y_0$? Hint: since this is\n",
    "an out-of-sample point,$\\epsilon_0$ is uncorrelated with all the in sample random errors $\\epsilon_i, i= 1, \\dots, n$.\n",
    "\n",
    "**ANSWER** : We know that $e_i\\sim N(E(e_0),\\text{Var}(e_0))$ because the distribution of $\\epsilon_i$ hasn't changed, even if we have $\\epsilon_0$ which is out of the scope of the training data because we assume that all error follows the assumptions made, including normality.\n",
    "\n",
    "$$E(e_0)=E(y_0-\\hat y_0)=E(y_0)-E(\\hat y_0)=E(\\beta_0+\\beta_1x_0+\\epsilon_0)-E(\\hat\\beta_0+\\hat\\beta_1x_0)=\\beta_0+\\beta_1x_0 + 0 -  \\beta_0-\\beta_1x_0=0$$\n",
    "\n",
    "$$\\text{Var}(e_0) = \\text{Var}(y_0-\\hat y_0)=\\text{Var}(y_0) - \\text{Var}(\\hat y_0) + 2\\text{Cov}(y_0,\\hat y_0)$$\n",
    "$2\\text{Cov}(y_0,\\hat y_0)=0$ because $2\\text{Cov}(y_0,\\hat y_0)=\\text{Cov}(\\epsilon_0,\\hat\\beta_0+\\hat\\beta_1x_0)$ and the errors are uncorrelated by assumption.\n",
    "$$\\text{Var}(e_0) = \\text{Var}(y_0) - \\text{Var}(\\hat y_0)=\\sigma^2-\\sigma^2(\\frac1n-\\frac{(x_0-\\bar x)^2}{SSX})$$\n",
    "$$\\text{Var}(e_0) = \\sigma^2(1-\\frac1n-\\frac{(x_0-\\bar x)^2}{SSX})$$\n",
    "\n",
    "Therefore,\n",
    "$$e_0\\sim N(0, \\sigma^2(1-\\frac1n-\\frac{(x_0-\\bar x)^2}{SSX}))$$"
   ]
  },
  {
   "cell_type": "markdown",
   "id": "78f37f6e",
   "metadata": {},
   "source": [
    "#### **Coding Questions**"
   ]
  },
  {
   "cell_type": "markdown",
   "id": "436cb04b",
   "metadata": {},
   "source": [
    "##### Q1"
   ]
  },
  {
   "cell_type": "code",
   "execution_count": 25,
   "id": "0ce3b2a5",
   "metadata": {},
   "outputs": [
    {
     "data": {
      "text/html": [
       "<div>\n",
       "<style scoped>\n",
       "    .dataframe tbody tr th:only-of-type {\n",
       "        vertical-align: middle;\n",
       "    }\n",
       "\n",
       "    .dataframe tbody tr th {\n",
       "        vertical-align: top;\n",
       "    }\n",
       "\n",
       "    .dataframe thead th {\n",
       "        text-align: right;\n",
       "    }\n",
       "</style>\n",
       "<table border=\"1\" class=\"dataframe\">\n",
       "  <thead>\n",
       "    <tr style=\"text-align: right;\">\n",
       "      <th></th>\n",
       "      <th>ID</th>\n",
       "      <th>Stay</th>\n",
       "      <th>Age</th>\n",
       "      <th>InfctRsk</th>\n",
       "      <th>Culture</th>\n",
       "      <th>Xray</th>\n",
       "      <th>Beds</th>\n",
       "      <th>MedSchool</th>\n",
       "      <th>Region</th>\n",
       "      <th>Census</th>\n",
       "      <th>Nurses</th>\n",
       "      <th>Facilities</th>\n",
       "    </tr>\n",
       "  </thead>\n",
       "  <tbody>\n",
       "    <tr>\n",
       "      <th>0</th>\n",
       "      <td>5</td>\n",
       "      <td>11.20</td>\n",
       "      <td>56.5</td>\n",
       "      <td>5.7</td>\n",
       "      <td>34.5</td>\n",
       "      <td>88.9</td>\n",
       "      <td>180</td>\n",
       "      <td>2</td>\n",
       "      <td>1</td>\n",
       "      <td>134</td>\n",
       "      <td>151</td>\n",
       "      <td>40.0</td>\n",
       "    </tr>\n",
       "    <tr>\n",
       "      <th>1</th>\n",
       "      <td>10</td>\n",
       "      <td>8.84</td>\n",
       "      <td>56.3</td>\n",
       "      <td>6.3</td>\n",
       "      <td>29.6</td>\n",
       "      <td>82.6</td>\n",
       "      <td>85</td>\n",
       "      <td>2</td>\n",
       "      <td>1</td>\n",
       "      <td>59</td>\n",
       "      <td>66</td>\n",
       "      <td>40.0</td>\n",
       "    </tr>\n",
       "    <tr>\n",
       "      <th>2</th>\n",
       "      <td>11</td>\n",
       "      <td>11.07</td>\n",
       "      <td>53.2</td>\n",
       "      <td>4.9</td>\n",
       "      <td>28.5</td>\n",
       "      <td>122.0</td>\n",
       "      <td>768</td>\n",
       "      <td>1</td>\n",
       "      <td>1</td>\n",
       "      <td>591</td>\n",
       "      <td>656</td>\n",
       "      <td>80.0</td>\n",
       "    </tr>\n",
       "  </tbody>\n",
       "</table>\n",
       "</div>"
      ],
      "text/plain": [
       "   ID   Stay   Age  InfctRsk  Culture   Xray  Beds  MedSchool  Region  Census  \\\n",
       "0   5  11.20  56.5       5.7     34.5   88.9   180          2       1     134   \n",
       "1  10   8.84  56.3       6.3     29.6   82.6    85          2       1      59   \n",
       "2  11  11.07  53.2       4.9     28.5  122.0   768          1       1     591   \n",
       "\n",
       "   Nurses  Facilities  \n",
       "0     151        40.0  \n",
       "1      66        40.0  \n",
       "2     656        80.0  "
      ]
     },
     "execution_count": 25,
     "metadata": {},
     "output_type": "execute_result"
    }
   ],
   "source": [
    "# Setup\n",
    "import numpy as np\n",
    "import pandas as pd\n",
    "from plotnine import ggplot, aes, geom_point, geom_smooth\n",
    "from sklearn.linear_model import LinearRegression\n",
    "from scipy import stats\n",
    "\n",
    "\n",
    "data = pd.read_csv(\"../../data/hospital_infection.csv\")\n",
    "X = data['Stay'].values\n",
    "Y=data['InfctRsk'].values\n",
    "\n",
    "data.head(3)"
   ]
  },
  {
   "cell_type": "markdown",
   "id": "9087c4ff",
   "metadata": {},
   "source": [
    "1. The data \"hospital_infection.csv\" recorded the patients infection rates data from $58$ hospitals. Let’s\n",
    "take `InfctRisk` as the response and `Stay` (average staying days) as the predictor and perform a\n",
    "regression analysis using Python. You are not restricted to the libraries and functions I have used in\n",
    "class. In your .pdf/.ipynb, answer the following questions:"
   ]
  },
  {
   "cell_type": "markdown",
   "id": "1b3a8382",
   "metadata": {},
   "source": [
    "(a) From scatter plot: is there any initial relationship you can observe? i.e. linear or not, positive or\n",
    "negative, etc."
   ]
  },
  {
   "cell_type": "code",
   "execution_count": 26,
   "id": "be078d31",
   "metadata": {},
   "outputs": [
    {
     "data": {
      "image/png": "[encoded data removed]"
     },
     "metadata": {
      "image/png": {
       "height": 480,
       "width": 640
      }
     },
     "output_type": "display_data"
    }
   ],
   "source": [
    "plt = ggplot(aes(x='Stay', y='InfctRsk'), data) + geom_point() + geom_smooth(method='lm',linetype=\"dashed\")\n",
    "plt"
   ]
  },
  {
   "cell_type": "markdown",
   "id": "0922ef0a",
   "metadata": {},
   "source": [
    "The correlation between `Stay` and `InfctRsk` is vaguely positively correlated and linear. There is a lot of noise."
   ]
  },
  {
   "cell_type": "markdown",
   "id": "f02b6dc2",
   "metadata": {},
   "source": [
    "(b) Write down the equation of the fitted regression line."
   ]
  },
  {
   "cell_type": "code",
   "execution_count": 27,
   "id": "c8af1351",
   "metadata": {},
   "outputs": [
    {
     "name": "stdout",
     "output_type": "stream",
     "text": [
      "InfctRsk = -1.16 + 0.569 Stay\n"
     ]
    }
   ],
   "source": [
    "model = LinearRegression().fit(X.reshape(-1,1), Y.reshape(-1,1))\n",
    "\n",
    "print(f\"InfctRsk = {round(model.intercept_[0],3)} + {round(model.coef_[0][0],3)} Stay\")"
   ]
  },
  {
   "cell_type": "markdown",
   "id": "2046f4aa",
   "metadata": {},
   "source": [
    "(c) What is the test statistic and p-value of the coefficient of `Stay`. How does that suggest the impact\n",
    "of `Stay` to `InfctRisk`?"
   ]
  },
  {
   "cell_type": "code",
   "execution_count": 28,
   "id": "ddf2c04c",
   "metadata": {},
   "outputs": [
    {
     "name": "stdout",
     "output_type": "stream",
     "text": [
      "t-statistic: 6.041, p-value: 1.3e-07\n"
     ]
    }
   ],
   "source": [
    "beta_1_hat = model.coef_[0][0]\n",
    "beta_1_star = 0\n",
    "n = len(Y)\n",
    "Y_pred = model.predict(X.reshape(-1, 1))\n",
    "residuals = Y - Y_pred.reshape(-1)\n",
    "\n",
    "MSE = np.sum(residuals**2) / (n - 2)\n",
    "SSX = np.sum((X - np.mean(X))**2)\n",
    "SE_beta1 = np.sqrt(MSE / SSX)\n",
    "\n",
    "t_stat = (beta_1_hat - beta_1_star) / SE_beta1\n",
    "p_value_t = 2 * (1 - stats.t.cdf(abs(t_stat), df=n-2))\n",
    "print(f\"t-statistic: {round(t_stat,3)}, p-value: {round(p_value_t,8)}\")"
   ]
  },
  {
   "cell_type": "markdown",
   "id": "a4c1b7f8",
   "metadata": {},
   "source": [
    "The p-value of the test statistic suggests that we can be very confident that `stay` correlates strongly with `InfctRisk`."
   ]
  },
  {
   "cell_type": "markdown",
   "id": "5fdbbb23",
   "metadata": {},
   "source": [
    "(d) Calculate the $95%$ confidence interval for $\\beta_1$. Does it match with the result from the summary\n",
    "output?"
   ]
  },
  {
   "cell_type": "code",
   "execution_count": 29,
   "id": "bba578a0",
   "metadata": {},
   "outputs": [
    {
     "name": "stdout",
     "output_type": "stream",
     "text": [
      "95% CI for beta_1: (0.38, 0.757)\n"
     ]
    }
   ],
   "source": [
    "beta_1_hat = model.coef_[0][0]\n",
    "n = len(Y)\n",
    "Y_pred = model.predict(X.reshape(-1, 1))\n",
    "residuals = Y - Y_pred.reshape(-1)\n",
    "\n",
    "MSE = np.sum(residuals**2) / (n - 2)\n",
    "SSX = np.sum((X - np.mean(X))**2)\n",
    "SE_beta1 = np.sqrt(MSE / SSX)\n",
    "\n",
    "alpha = 0.05\n",
    "t_crit = stats.t.ppf(1 - alpha/2, df=n-2)  # <-- use ppf, not cdf\n",
    "margin_of_error = t_crit * SE_beta1\n",
    "\n",
    "CI_lower = beta_1_hat - margin_of_error\n",
    "CI_upper = beta_1_hat + margin_of_error\n",
    "\n",
    "print(f\"95% CI for beta_1: ({round(CI_lower,3)}, {round(CI_upper,3)})\")\n"
   ]
  },
  {
   "cell_type": "markdown",
   "id": "7b055cd5",
   "metadata": {},
   "source": [
    "Since zero does not lie in the confidence interval, this aligns with the result found in part (c)."
   ]
  },
  {
   "cell_type": "markdown",
   "id": "2b583aad",
   "metadata": {},
   "source": [
    "(e) Run ANOVA: what is the test statistic and p-value of the F test? What does that suggest about\n",
    "the significance of the predictor in your model?"
   ]
  },
  {
   "cell_type": "code",
   "execution_count": 30,
   "id": "71551460",
   "metadata": {},
   "outputs": [
    {
     "name": "stdout",
     "output_type": "stream",
     "text": [
      "F-statistic: 36.497, p-value: 1.3e-07\n"
     ]
    }
   ],
   "source": [
    "beta_1_hat = model.coef_[0][0]\n",
    "beta_1_star = 0\n",
    "n = len(Y)\n",
    "Y_pred = model.predict(X.reshape(-1, 1))\n",
    "residuals = Y - Y_pred.reshape(-1)\n",
    "\n",
    "# --- F-statistic ---\n",
    "SST = np.sum((Y - np.mean(Y))**2)\n",
    "SSE = np.sum(residuals**2)\n",
    "SSR = SST - SSE\n",
    "\n",
    "F_stat = (SSR / 1) / (SSE / (n - 2))\n",
    "p_value_f = stats.f.sf(F_stat, dfn=1, dfd=n-2)\n",
    "print(f\"F-statistic: {round(F_stat,3)}, p-value: {round(p_value_f,8)}\")\n"
   ]
  },
  {
   "cell_type": "markdown",
   "id": "3e8a71ed",
   "metadata": {},
   "source": [
    "The p-value of the F-statistic suggests that `Stay` is a significant predictor of `InfctRisk`."
   ]
  },
  {
   "cell_type": "markdown",
   "id": "76fafb00",
   "metadata": {},
   "source": [
    "(f) Verify that squaring the t-statistic associated with testing the null hypothesis $H_0:\\beta_1= 0$ vs.\n",
    "$H_1:\\beta_1\\neq0$ is the same value as F-statistic generated from the ANOVA. Also verify that the p-values\n",
    "are approximately the same for the two tests."
   ]
  },
  {
   "cell_type": "code",
   "execution_count": 31,
   "id": "15be621d",
   "metadata": {},
   "outputs": [
    {
     "name": "stdout",
     "output_type": "stream",
     "text": [
      "36.49652192554743 36.49652192554743\n",
      "t-statistic^2 = F-statistic : True\n"
     ]
    }
   ],
   "source": [
    "print(t_stat**2,F_stat)\n",
    "print(f\"t-statistic^2 = F-statistic : {np.isclose(F_stat, t_stat**2)}\")"
   ]
  },
  {
   "cell_type": "markdown",
   "id": "d34f93ef",
   "metadata": {},
   "source": [
    "(g) From the summary: what is the value of $R^2$? What does it suggest about the goodness-of-fit of\n",
    "your model?"
   ]
  },
  {
   "cell_type": "code",
   "execution_count": 32,
   "id": "b649623b",
   "metadata": {},
   "outputs": [
    {
     "name": "stdout",
     "output_type": "stream",
     "text": [
      "R-squared: 0.395\n"
     ]
    }
   ],
   "source": [
    "R_squared = model.score(X.reshape(-1, 1), Y.reshape(-1, 1))\n",
    "print(f\"R-squared: {round(R_squared,3)}\")"
   ]
  },
  {
   "cell_type": "markdown",
   "id": "81113cde",
   "metadata": {},
   "source": [
    "This suggests that a majority of our data's variance is unexplained. While $R^2$ is a rule-of-thumb tool, it suggests that `Stay` isn't an amazing predictor of `InftRisk`. This makes sense if we take another look at the scatter plot which showed only a vague positive linear correlation."
   ]
  },
  {
   "cell_type": "markdown",
   "id": "d7071a07",
   "metadata": {},
   "source": [
    "(h) Predict the infection risk for a hospital with an average stay length of $32$ days."
   ]
  },
  {
   "cell_type": "code",
   "execution_count": 33,
   "id": "76939eb3",
   "metadata": {},
   "outputs": [
    {
     "name": "stdout",
     "output_type": "stream",
     "text": [
      "Infection Risk is predicted to be 17.044 given an average stay of 32 days.\n"
     ]
    },
    {
     "name": "stderr",
     "output_type": "stream",
     "text": [
      "/opt/homebrew/Caskroom/miniconda/base/envs/linear_regression/lib/python3.13/site-packages/sklearn/utils/validation.py:2742: UserWarning: X has feature names, but LinearRegression was fitted without feature names\n"
     ]
    }
   ],
   "source": [
    "print(f\"Infection Risk is predicted to be {round(\n",
    "    model.predict(pd.DataFrame({'Stay': [32]}))[0][0], \n",
    "    3)} given an average stay of 32 days.\")"
   ]
  }
 ],
 "metadata": {
  "kernelspec": {
   "display_name": "linear_regression",
   "language": "python",
   "name": "python3"
  },
  "language_info": {
   "codemirror_mode": {
    "name": "ipython",
    "version": 3
   },
   "file_extension": ".py",
   "mimetype": "text/x-python",
   "name": "python",
   "nbconvert_exporter": "python",
   "pygments_lexer": "ipython3",
   "version": "3.13.5"
  }
 },
 "nbformat": 4,
 "nbformat_minor": 5
}
