{
 "cells": [
  {
   "cell_type": "markdown",
   "id": "dbf4548c",
   "metadata": {},
   "source": [
    "<h1 style=\"text-align: center;\">Linear Regression Analysis</h1>\n",
    "<h1 style=\"text-align: center;\">Homework 2</h1>\n",
    "<h3 style=\"text-align: center;\">Brandon Miner</h3>\n",
    "<h3 style=\"text-align: center;\">September 4, 2025</h3>"
   ]
  },
  {
   "cell_type": "markdown",
   "id": "2cc4465a",
   "metadata": {},
   "source": [
    "**Directions**: Submit a .pdf file containing your responses. The .pdf can be converted from a Latex file, pictures of your handwritten solutions, word files, markdown files, etc. If there are coding problems, upload a separate notebook for Python code.\n"
   ]
  },
  {
   "cell_type": "markdown",
   "id": "9c15f968",
   "metadata": {},
   "source": [
    "#### **Written Questions**"
   ]
  },
  {
   "cell_type": "markdown",
   "id": "bbf8bc6c",
   "metadata": {},
   "source": [
    "##### Q1"
   ]
  },
  {
   "cell_type": "markdown",
   "id": "b00203aa",
   "metadata": {},
   "source": [
    "1. A student working on a summer internship in the economic research department of a large corporation\n",
    "studied the relation between sales of a product (Y, in million dollars) and population (X, in million\n",
    "persons) in the firm’s 50 marketing districts. The classical regression model with normal errors was\n",
    "employed. The student first wished to test whether or not a linear association betweenYandXexisted.\n",
    "The student accessed a simple linear regression program and obtained the following information on the\n",
    "regression coefficients:\n",
    "\n",
    "| Parameter | Estimated Value | 95 Percent Confidence Limits |\n",
    "| --------- | --------------- | ---------------------------- |\n",
    "| Intercept | 7.43119 | −1.18518 16.0476 |\n",
    "| Slope | 0.755048 | 0.452886 1.05721 |\n",
    "\n",
    "\n",
    "a. The student concluded from these results that there is a linear association betweenYandX. Is\n",
    "the conclusion warranted? What is the implied level of significance?\n",
    "\n",
    "b. Someone questioned the negative lower confidence limit for the intercept, pointing out that dollar\n",
    "sales cannot be negative even if the population in a district is zero. Discuss."
   ]
  },
  {
   "cell_type": "markdown",
   "id": "177115f6",
   "metadata": {},
   "source": [
    "a. \n",
    "\n",
    "b. \n"
   ]
  },
  {
   "cell_type": "markdown",
   "id": "30278c79",
   "metadata": {},
   "source": [
    "##### Q2"
   ]
  },
  {
   "cell_type": "markdown",
   "id": "2901bb96",
   "metadata": {},
   "source": [
    "2. A member of a student team playing an interactive marketing game received the following computer output when studying the relation between advertising expenditures ($X$) and sales ($Y$) for one of the\n",
    "team’s products:\n",
    "\n",
    "Estimated regression equation: $\\hat Y= 350.7−0.18X$ \n",
    "\n",
    "Two-sidedP-value for estimated slope: $0.91$\n",
    "\n",
    "The student stated: “The message I get here is that the more we spend on advertising this product, the fewer units we sell!” Comment.\n"
   ]
  },
  {
   "cell_type": "markdown",
   "id": "28d0cf46",
   "metadata": {},
   "source": [
    "response"
   ]
  },
  {
   "cell_type": "markdown",
   "id": "eb6d9c7a",
   "metadata": {},
   "source": [
    "##### Q3"
   ]
  },
  {
   "cell_type": "markdown",
   "id": "3c6f58bc",
   "metadata": {},
   "source": [
    "3. For each of the following questions, explain whether a confidence interval for a mean response or a prediction interval for a new observation is appropriate.\n",
    "\n",
    "a. What will be the humidity level in this greenhouse tomorrow when we set the temperature level at $31^\\circ \\text{C}$?\n",
    "\n",
    "b. How much do families whose disposable income is $\\$23,500$ spend, on the average, for meals away from home?\n",
    "\n",
    "c. How many kilowatt-hours of electricity will be consumed next month by commercial and industrial users in the Twin Cities service area, given that the index of business activity for the area remains at its present level?"
   ]
  },
  {
   "cell_type": "markdown",
   "id": "c90cd46c",
   "metadata": {},
   "source": [
    "a.\n",
    "\n",
    "b.\n",
    "\n",
    "c.\n"
   ]
  },
  {
   "cell_type": "markdown",
   "id": "c4a6ffb3",
   "metadata": {},
   "source": [
    "##### Q4"
   ]
  },
  {
   "cell_type": "markdown",
   "id": "c82b2141",
   "metadata": {},
   "source": [
    "4. Using the classical regression model with normal errors in an engineering safety experiment, a researcher found for the first $10$ cases that $R^2$ was zero. Is it possible that for the complete set of 30 cases $R^2$ will not be zero? Could $R^2$ not be zero for the first $10$ cases, yet equal zero for all $30$ cases? Explain."
   ]
  },
  {
   "cell_type": "markdown",
   "id": "5a05b0bf",
   "metadata": {},
   "source": [
    "response"
   ]
  },
  {
   "cell_type": "markdown",
   "id": "2b3bc166",
   "metadata": {},
   "source": [
    "##### Q5"
   ]
  },
  {
   "cell_type": "markdown",
   "id": "de051d33",
   "metadata": {},
   "source": [
    "5. Recall the following statement about in-sample predictions: Assuming (x i, yi) belongs to the training\n",
    "sample we have used to fit the SLR, then the residuale ihas mean 0 and variance $\\sigma^2[1-\\frac1n-\\frac{(x_i-\\bar x)^2}{SSX}]$. Now imagine after fitting a regression line and obtaining the parameter estimates $\\hat\\beta_0$ and $\\hat\\beta_1$, we are predicting an observation that’s out of sample, i.e. the observation has independent variable value $X=x_0$, where $x_0$ does not belong to the data used to fit the model. The true response variable\n",
    "$$y_0=\\beta_0+\\beta_1x_0+\\epsilon_0$$\n",
    "is predicted by\n",
    "$$\\hat y_i=\\hat\\beta_0+\\hat\\beta_1x_0$$\n",
    "What is the mean and variance of the out-of-sample prediction bias $e_0=y_0−\\hat y_0$? Hint: since this is\n",
    "an out-of-sample point,$\\epsilon_0$ is uncorrelated with all the in sample random errors $\\epsilon_i, i= 1, \\dots, n$."
   ]
  },
  {
   "cell_type": "markdown",
   "id": "8ca5a473",
   "metadata": {},
   "source": [
    "response"
   ]
  },
  {
   "cell_type": "markdown",
   "id": "78f37f6e",
   "metadata": {},
   "source": [
    "#### **Coding Questions**"
   ]
  },
  {
   "cell_type": "markdown",
   "id": "436cb04b",
   "metadata": {},
   "source": [
    "##### Q1"
   ]
  },
  {
   "cell_type": "markdown",
   "id": "9087c4ff",
   "metadata": {},
   "source": [
    "1. The data \"hospital infection.csv\" recorded the patients infection rates data from $58$ hospitals. Let’s\n",
    "`takeInfctRiskas` the response and `Stay` (average staying days) as the predictor and perform a\n",
    "regression analysis using Python. You are not restricted to the libraries and functions I have used in\n",
    "class. In your .pdf/.ipynb, answer the following questions:\n",
    "\n",
    "(a) From scatter plot: is there any initial relationship you can observe? i.e. linear or not, positive or\n",
    "negative, etc.\n",
    "\n",
    "(b) Write down the equation of the fitted regression line.\n",
    "\n",
    "(c) What is the test statistic and p-value of the coefficient ofStay. How does that suggest the impact\n",
    "of `StaytoInfctRisk`?\n",
    "\n",
    "(d) Calculate the $95%$ confidence interval for $\\beta_1$. Does it match with the result from the summary\n",
    "output?\n",
    "\n",
    "(e) Run ANOVA: what is the test statistic and p-value of the F test? What does that suggest about\n",
    "the significance of the predictor in your model?\n",
    "\n",
    "(f) Verify that squaring the t-statistic associated with testing the null hypothesis $H_0:\\beta_1= 0$ vs.\n",
    "$H_1:\\beta_1\\neq0$ is the same value as F-statistic generated from the ANOVA. Also verify that the p-values\n",
    "are approximately the same for the two tests.\n",
    "\n",
    "(g) From the summary: what is the value of $R^2$? What does it suggest about the goodness-of-fit of\n",
    "your model?\n",
    "\n",
    "(h) Predict the infection risk for a hospital with an average stay length of $32$ days."
   ]
  },
  {
   "cell_type": "markdown",
   "id": "1b3a8382",
   "metadata": {},
   "source": [
    "a. \n",
    "\n",
    "b.\n",
    "\n",
    "c.\n",
    "\n",
    "d.\n",
    "\n",
    "e.\n",
    "\n",
    "f.\n",
    "\n",
    "g.\n",
    "\n",
    "h.\n",
    "\n"
   ]
  },
  {
   "cell_type": "code",
   "execution_count": null,
   "id": "be078d31",
   "metadata": {},
   "outputs": [
    {
     "name": "stdout",
     "output_type": "stream",
     "text": [
      "4. Using the classical regression model with normal errors in an engineering safety experiment, a researcher\n",
      "found for the first 10 cases thatR2was zero. Is it possible that for the complete set of 30 casesR2\n",
      "will not be zero? CouldR2not be zero for the first 10 cases, yet equal zero for all 30 cases? Explain.\n",
      "5. Recall the following statement about in-sample predictions: Assuming (x i, yi) belongs to the training\n",
      "sample we have used to fit the SLR, then the residuale ihas mean 0 and varianceσ2[1−1\n",
      "n−(xi−¯x)2\n",
      "SSX].\n",
      "Now imagine after fitting a regression line and obtaining the parameter estimates ˆβ0and ˆβ1, we are\n",
      "predicting an observation that’s out of sample, i.e. the observation has independent variable value\n",
      "X=x 0, wherex 0does not belong to the data used to fit the model. The true response variable\n",
      "y0=β0+β1x0+ϵ0\n",
      "is predicted by\n",
      "ˆyi=ˆβ0+ˆβ1x0\n",
      "What is the mean and variance of the out-of-sample prediction biase 0=y0−ˆy0? Hint: since this is\n",
      "an out-of-sample point,ϵ 0is uncorrelated with all the in sample random errorsϵ i, i= 1, ..., n.\n",
      "Coding questions:\n",
      "1. The data “hospital infection.csv” recorded the patients infection rates data from 58 hospitals. Let’s\n",
      "takeInfctRiskas the response andStay(average staying days) as the predictor and perform a\n",
      "regression analysis using Python. You are not restricted to the libraries and functions I have used in\n",
      "class. In your .pdf/.ipynb, answer the following questions:\n",
      "(a) From scatter plot: is there any initial relationship you can observe? i.e. linear or not, positive or\n",
      "negative, etc.\n",
      "(b) Write down the equation of the fitted regression line.\n",
      "(c) What is the test statistic and p-value of the coefficient ofStay. How does that suggest the impact\n",
      "ofStaytoInfctRisk?\n",
      "(d) Calculate the 95% confidence interval forβ 1. Does it match with the result from the summary\n",
      "output?\n",
      "(e) Run ANOVA: what is the test statistic and p-value of the F test? What does that suggest about\n",
      "the significance of the predictor in your model?\n",
      "(f) Verify that squaring the t-statistic associated with testing the null hypothesisH 0:β1= 0 vs.\n",
      "H1:β1̸= 0 is the same value as F-statistic generated from the ANOVA. Also verify that the p-values\n",
      "are approximately the same for the two tests.\n",
      "(g) From the summary: what is the value ofR2? What does it suggest about the goodness-of-fit of\n",
      "your model?\n",
      "(h) Predict the infection risk for a hospital with an average stay length of 32 days.\n",
      "2. Continue with the hospital infection example from above. Use Python to plot the residual vs. fitted\n",
      "value plot and QQ plot based on your model. Based on your figures, evaluate the following assumptions.\n",
      "A brief observational comment is acceptable (i.e., seems to be false because...; hard to judge because...;\n",
      "etc.).\n",
      "(a) Infection risk and stay length have a linear relationship.\n",
      "(b) The assumption of error terms have constant variance is valid.\n",
      "(c) The assumption of error terms are independent is valid.\n",
      "(d) The assumption of error terms are normally distributed is valid.\n",
      "3. Continue with the hospital infection example from above. Use Python to give the 95% confidence\n",
      "interval for the mean infection risk when the average stay is 32 days, and the 95% prediction interval\n",
      "of the infection risk for a new patient who would stay 32 days.\n",
      "2"
     ]
    }
   ],
   "source": []
  }
 ],
 "metadata": {
  "kernelspec": {
   "display_name": "data_aquisition",
   "language": "python",
   "name": "python3"
  },
  "language_info": {
   "codemirror_mode": {
    "name": "ipython",
    "version": 3
   },
   "file_extension": ".py",
   "mimetype": "text/x-python",
   "name": "python",
   "nbconvert_exporter": "python",
   "pygments_lexer": "ipython3",
   "version": "3.13.5"
  }
 },
 "nbformat": 4,
 "nbformat_minor": 5
}
