{
 "cells": [
  {
   "cell_type": "code",
   "execution_count": 1,
   "metadata": {},
   "outputs": [],
   "source": [
    "import matplotlib.pyplot as plt \n",
    "import pandas as pd\n",
    "import numpy as np\n",
    "import statsmodels.api as sm\n",
    "import statsmodels.formula.api as smf"
   ]
  },
  {
   "cell_type": "markdown",
   "metadata": {},
   "source": [
    "<b>Example: automobile data</b>\n",
    "\n",
    "https://www.kaggle.com/toramky/automobile-dataset"
   ]
  },
  {
   "cell_type": "code",
   "execution_count": 2,
   "metadata": {},
   "outputs": [
    {
     "data": {
      "text/html": [
       "<div>\n",
       "<style scoped>\n",
       "    .dataframe tbody tr th:only-of-type {\n",
       "        vertical-align: middle;\n",
       "    }\n",
       "\n",
       "    .dataframe tbody tr th {\n",
       "        vertical-align: top;\n",
       "    }\n",
       "\n",
       "    .dataframe thead th {\n",
       "        text-align: right;\n",
       "    }\n",
       "</style>\n",
       "<table border=\"1\" class=\"dataframe\">\n",
       "  <thead>\n",
       "    <tr style=\"text-align: right;\">\n",
       "      <th></th>\n",
       "      <th>symboling</th>\n",
       "      <th>normalized-losses</th>\n",
       "      <th>make</th>\n",
       "      <th>fuel-type</th>\n",
       "      <th>aspiration</th>\n",
       "      <th>num-of-doors</th>\n",
       "      <th>body-style</th>\n",
       "      <th>drive-wheels</th>\n",
       "      <th>engine-location</th>\n",
       "      <th>wheel-base</th>\n",
       "      <th>...</th>\n",
       "      <th>engine-size</th>\n",
       "      <th>fuel-system</th>\n",
       "      <th>bore</th>\n",
       "      <th>stroke</th>\n",
       "      <th>compression-ratio</th>\n",
       "      <th>horsepower</th>\n",
       "      <th>peak-rpm</th>\n",
       "      <th>city-mpg</th>\n",
       "      <th>highway-mpg</th>\n",
       "      <th>price</th>\n",
       "    </tr>\n",
       "  </thead>\n",
       "  <tbody>\n",
       "    <tr>\n",
       "      <th>143</th>\n",
       "      <td>0</td>\n",
       "      <td>102</td>\n",
       "      <td>subaru</td>\n",
       "      <td>gas</td>\n",
       "      <td>std</td>\n",
       "      <td>four</td>\n",
       "      <td>sedan</td>\n",
       "      <td>fwd</td>\n",
       "      <td>front</td>\n",
       "      <td>97.2</td>\n",
       "      <td>...</td>\n",
       "      <td>108</td>\n",
       "      <td>mpfi</td>\n",
       "      <td>3.62</td>\n",
       "      <td>2.64</td>\n",
       "      <td>9.0</td>\n",
       "      <td>94</td>\n",
       "      <td>5200</td>\n",
       "      <td>26</td>\n",
       "      <td>32</td>\n",
       "      <td>9960</td>\n",
       "    </tr>\n",
       "    <tr>\n",
       "      <th>2</th>\n",
       "      <td>1</td>\n",
       "      <td>?</td>\n",
       "      <td>alfa-romero</td>\n",
       "      <td>gas</td>\n",
       "      <td>std</td>\n",
       "      <td>two</td>\n",
       "      <td>hatchback</td>\n",
       "      <td>rwd</td>\n",
       "      <td>front</td>\n",
       "      <td>94.5</td>\n",
       "      <td>...</td>\n",
       "      <td>152</td>\n",
       "      <td>mpfi</td>\n",
       "      <td>2.68</td>\n",
       "      <td>3.47</td>\n",
       "      <td>9.0</td>\n",
       "      <td>154</td>\n",
       "      <td>5000</td>\n",
       "      <td>19</td>\n",
       "      <td>26</td>\n",
       "      <td>16500</td>\n",
       "    </tr>\n",
       "    <tr>\n",
       "      <th>160</th>\n",
       "      <td>0</td>\n",
       "      <td>91</td>\n",
       "      <td>toyota</td>\n",
       "      <td>gas</td>\n",
       "      <td>std</td>\n",
       "      <td>four</td>\n",
       "      <td>sedan</td>\n",
       "      <td>fwd</td>\n",
       "      <td>front</td>\n",
       "      <td>95.7</td>\n",
       "      <td>...</td>\n",
       "      <td>98</td>\n",
       "      <td>2bbl</td>\n",
       "      <td>3.19</td>\n",
       "      <td>3.03</td>\n",
       "      <td>9.0</td>\n",
       "      <td>70</td>\n",
       "      <td>4800</td>\n",
       "      <td>38</td>\n",
       "      <td>47</td>\n",
       "      <td>7738</td>\n",
       "    </tr>\n",
       "    <tr>\n",
       "      <th>125</th>\n",
       "      <td>3</td>\n",
       "      <td>186</td>\n",
       "      <td>porsche</td>\n",
       "      <td>gas</td>\n",
       "      <td>std</td>\n",
       "      <td>two</td>\n",
       "      <td>hatchback</td>\n",
       "      <td>rwd</td>\n",
       "      <td>front</td>\n",
       "      <td>104.3</td>\n",
       "      <td>...</td>\n",
       "      <td>141</td>\n",
       "      <td>mpfi</td>\n",
       "      <td>3.78</td>\n",
       "      <td>3.15</td>\n",
       "      <td>9.5</td>\n",
       "      <td>114</td>\n",
       "      <td>5400</td>\n",
       "      <td>24</td>\n",
       "      <td>28</td>\n",
       "      <td>15985</td>\n",
       "    </tr>\n",
       "    <tr>\n",
       "      <th>44</th>\n",
       "      <td>1</td>\n",
       "      <td>?</td>\n",
       "      <td>isuzu</td>\n",
       "      <td>gas</td>\n",
       "      <td>std</td>\n",
       "      <td>two</td>\n",
       "      <td>sedan</td>\n",
       "      <td>fwd</td>\n",
       "      <td>front</td>\n",
       "      <td>94.5</td>\n",
       "      <td>...</td>\n",
       "      <td>90</td>\n",
       "      <td>2bbl</td>\n",
       "      <td>3.03</td>\n",
       "      <td>3.11</td>\n",
       "      <td>9.6</td>\n",
       "      <td>70</td>\n",
       "      <td>5400</td>\n",
       "      <td>38</td>\n",
       "      <td>43</td>\n",
       "      <td>?</td>\n",
       "    </tr>\n",
       "  </tbody>\n",
       "</table>\n",
       "<p>5 rows × 26 columns</p>\n",
       "</div>"
      ],
      "text/plain": [
       "     symboling normalized-losses         make fuel-type aspiration  \\\n",
       "143          0               102       subaru       gas        std   \n",
       "2            1                 ?  alfa-romero       gas        std   \n",
       "160          0                91       toyota       gas        std   \n",
       "125          3               186      porsche       gas        std   \n",
       "44           1                 ?        isuzu       gas        std   \n",
       "\n",
       "    num-of-doors body-style drive-wheels engine-location  wheel-base  ...  \\\n",
       "143         four      sedan          fwd           front        97.2  ...   \n",
       "2            two  hatchback          rwd           front        94.5  ...   \n",
       "160         four      sedan          fwd           front        95.7  ...   \n",
       "125          two  hatchback          rwd           front        94.5  ...   \n",
       "44           two      sedan          fwd           front        94.5  ...   \n",
       "\n",
       "     engine-size  fuel-system  bore  stroke compression-ratio horsepower  \\\n",
       "143          108         mpfi  3.62    2.64               9.0         94   \n",
       "2            152         mpfi  2.68    3.47               9.0        154   \n",
       "160           98         2bbl  3.19    3.03               9.0         70   \n",
       "125          151         mpfi  3.94    3.11               9.5        143   \n",
       "44            90         2bbl  3.03    3.11               9.6         70   \n",
       "\n",
       "     peak-rpm city-mpg highway-mpg  price  \n",
       "143      5200       26          32   9960  \n",
       "2        5000       19          26  16500  \n",
       "160      4800       38          47   7738  \n",
       "125      5500       19          27  22018  \n",
       "44       5400       38          43      ?  \n",
       "\n",
       "[5 rows x 26 columns]"
      ]
     },
     "execution_count": 2,
     "metadata": {},
     "output_type": "execute_result"
    }
   ],
   "source": [
    "carsdata=pd.read_csv('../data/Automobile_data.csv')\n",
    "carsdata.sample(5)"
   ]
  },
  {
   "cell_type": "markdown",
   "metadata": {},
   "source": [
    "To fit a model to find important prefictors of `price`, let's start with some predictors to fit an initial model."
   ]
  },
  {
   "cell_type": "code",
   "execution_count": 3,
   "metadata": {},
   "outputs": [],
   "source": [
    "cars=carsdata[['engine-size','horsepower','city-mpg','price']].copy()\n",
    "#names have been giving me trouble..\n",
    "cars.columns = ['enginesize', 'horsepower', 'citympg', 'price']\n"
   ]
  },
  {
   "cell_type": "code",
   "execution_count": 4,
   "metadata": {},
   "outputs": [
    {
     "data": {
      "text/plain": [
       "enginesize    0\n",
       "horsepower    2\n",
       "citympg       0\n",
       "price         4\n",
       "dtype: int64"
      ]
     },
     "execution_count": 4,
     "metadata": {},
     "output_type": "execute_result"
    }
   ],
   "source": [
    "#deal with missing values: the missing values here are \"?\"\n",
    "cars['enginesize'] = cars['enginesize'].replace('?', np.nan)\n",
    "cars['horsepower'] = cars['horsepower'].replace('?', np.nan)\n",
    "cars['citympg']   = cars['citympg'].replace('?', np.nan)\n",
    "cars['price']     = cars['price'].replace('?', np.nan)\n",
    "cars.isnull().sum()"
   ]
  },
  {
   "cell_type": "code",
   "execution_count": 5,
   "metadata": {},
   "outputs": [
    {
     "name": "stdout",
     "output_type": "stream",
     "text": [
      "<class 'pandas.core.frame.DataFrame'>\n",
      "Index: 199 entries, 0 to 204\n",
      "Data columns (total 4 columns):\n",
      " #   Column      Non-Null Count  Dtype \n",
      "---  ------      --------------  ----- \n",
      " 0   enginesize  199 non-null    int64 \n",
      " 1   horsepower  199 non-null    object\n",
      " 2   citympg     199 non-null    int64 \n",
      " 3   price       199 non-null    object\n",
      "dtypes: int64(2), object(2)\n",
      "memory usage: 7.8+ KB\n"
     ]
    },
    {
     "data": {
      "text/plain": [
       "enginesize    0\n",
       "horsepower    0\n",
       "citympg       0\n",
       "price         0\n",
       "dtype: int64"
      ]
     },
     "execution_count": 5,
     "metadata": {},
     "output_type": "execute_result"
    }
   ],
   "source": [
    "#Not too many missing values, for now let's drop them\n",
    "#Recall how we could impute missing values from EDA\n",
    "carsnew=cars.dropna().copy()\n",
    "carsnew.info()\n",
    "carsnew.isnull().sum()"
   ]
  },
  {
   "cell_type": "code",
   "execution_count": 6,
   "metadata": {},
   "outputs": [
    {
     "name": "stdout",
     "output_type": "stream",
     "text": [
      "<class 'pandas.core.frame.DataFrame'>\n",
      "Index: 199 entries, 0 to 204\n",
      "Data columns (total 4 columns):\n",
      " #   Column      Non-Null Count  Dtype\n",
      "---  ------      --------------  -----\n",
      " 0   enginesize  199 non-null    int64\n",
      " 1   horsepower  199 non-null    int64\n",
      " 2   citympg     199 non-null    int64\n",
      " 3   price       199 non-null    int64\n",
      "dtypes: int64(4)\n",
      "memory usage: 7.8 KB\n"
     ]
    }
   ],
   "source": [
    "#one more problem: price is a object, not int64(numeric), so is horsepower!\n",
    "carsnew['horsepower'] = carsnew['horsepower'].astype('int64')\n",
    "carsnew['price'] = carsnew['price'].astype('int64')\n",
    "carsnew.info()"
   ]
  },
  {
   "cell_type": "markdown",
   "metadata": {},
   "source": [
    "Now we can fit mlr: price~enginesize + citympg+ horsepower"
   ]
  },
  {
   "cell_type": "code",
   "execution_count": 7,
   "metadata": {},
   "outputs": [],
   "source": [
    "reg = smf.ols('price~enginesize+citympg+horsepower',data=carsnew).fit()\n",
    "\n",
    "#print(dir(reg)) #members of the object provided by the modelling"
   ]
  },
  {
   "cell_type": "code",
   "execution_count": 8,
   "metadata": {},
   "outputs": [
    {
     "data": {
      "text/html": [
       "<table class=\"simpletable\">\n",
       "<caption>OLS Regression Results</caption>\n",
       "<tr>\n",
       "  <th>Dep. Variable:</th>          <td>price</td>      <th>  R-squared:         </th> <td>   0.794</td>\n",
       "</tr>\n",
       "<tr>\n",
       "  <th>Model:</th>                   <td>OLS</td>       <th>  Adj. R-squared:    </th> <td>   0.791</td>\n",
       "</tr>\n",
       "<tr>\n",
       "  <th>Method:</th>             <td>Least Squares</td>  <th>  F-statistic:       </th> <td>   251.2</td>\n",
       "</tr>\n",
       "<tr>\n",
       "  <th>Date:</th>             <td>Mon, 15 Sep 2025</td> <th>  Prob (F-statistic):</th> <td>1.03e-66</td>\n",
       "</tr>\n",
       "<tr>\n",
       "  <th>Time:</th>                 <td>11:07:50</td>     <th>  Log-Likelihood:    </th> <td> -1912.4</td>\n",
       "</tr>\n",
       "<tr>\n",
       "  <th>No. Observations:</th>      <td>   199</td>      <th>  AIC:               </th> <td>   3833.</td>\n",
       "</tr>\n",
       "<tr>\n",
       "  <th>Df Residuals:</th>          <td>   195</td>      <th>  BIC:               </th> <td>   3846.</td>\n",
       "</tr>\n",
       "<tr>\n",
       "  <th>Df Model:</th>              <td>     3</td>      <th>                     </th>     <td> </td>   \n",
       "</tr>\n",
       "<tr>\n",
       "  <th>Covariance Type:</th>      <td>nonrobust</td>    <th>                     </th>     <td> </td>   \n",
       "</tr>\n",
       "</table>\n",
       "<table class=\"simpletable\">\n",
       "<tr>\n",
       "       <td></td>         <th>coef</th>     <th>std err</th>      <th>t</th>      <th>P>|t|</th>  <th>[0.025</th>    <th>0.975]</th>  \n",
       "</tr>\n",
       "<tr>\n",
       "  <th>Intercept</th>  <td>-2547.0951</td> <td> 2914.668</td> <td>   -0.874</td> <td> 0.383</td> <td>-8295.415</td> <td> 3201.225</td>\n",
       "</tr>\n",
       "<tr>\n",
       "  <th>enginesize</th> <td>  124.3388</td> <td>   10.951</td> <td>   11.355</td> <td> 0.000</td> <td>  102.742</td> <td>  145.935</td>\n",
       "</tr>\n",
       "<tr>\n",
       "  <th>citympg</th>    <td> -151.3184</td> <td>   70.849</td> <td>   -2.136</td> <td> 0.034</td> <td> -291.047</td> <td>  -11.590</td>\n",
       "</tr>\n",
       "<tr>\n",
       "  <th>horsepower</th> <td>   37.0876</td> <td>   16.262</td> <td>    2.281</td> <td> 0.024</td> <td>    5.016</td> <td>   69.159</td>\n",
       "</tr>\n",
       "</table>\n",
       "<table class=\"simpletable\">\n",
       "<tr>\n",
       "  <th>Omnibus:</th>       <td>10.990</td> <th>  Durbin-Watson:     </th> <td>   0.771</td>\n",
       "</tr>\n",
       "<tr>\n",
       "  <th>Prob(Omnibus):</th> <td> 0.004</td> <th>  Jarque-Bera (JB):  </th> <td>  17.130</td>\n",
       "</tr>\n",
       "<tr>\n",
       "  <th>Skew:</th>          <td> 0.312</td> <th>  Prob(JB):          </th> <td>0.000191</td>\n",
       "</tr>\n",
       "<tr>\n",
       "  <th>Kurtosis:</th>      <td> 4.295</td> <th>  Cond. No.          </th> <td>1.96e+03</td>\n",
       "</tr>\n",
       "</table><br/><br/>Notes:<br/>[1] Standard Errors assume that the covariance matrix of the errors is correctly specified.<br/>[2] The condition number is large, 1.96e+03. This might indicate that there are<br/>strong multicollinearity or other numerical problems."
      ],
      "text/latex": [
       "\\begin{center}\n",
       "\\begin{tabular}{lclc}\n",
       "\\toprule\n",
       "\\textbf{Dep. Variable:}    &      price       & \\textbf{  R-squared:         } &     0.794   \\\\\n",
       "\\textbf{Model:}            &       OLS        & \\textbf{  Adj. R-squared:    } &     0.791   \\\\\n",
       "\\textbf{Method:}           &  Least Squares   & \\textbf{  F-statistic:       } &     251.2   \\\\\n",
       "\\textbf{Date:}             & Mon, 15 Sep 2025 & \\textbf{  Prob (F-statistic):} &  1.03e-66   \\\\\n",
       "\\textbf{Time:}             &     11:07:50     & \\textbf{  Log-Likelihood:    } &   -1912.4   \\\\\n",
       "\\textbf{No. Observations:} &         199      & \\textbf{  AIC:               } &     3833.   \\\\\n",
       "\\textbf{Df Residuals:}     &         195      & \\textbf{  BIC:               } &     3846.   \\\\\n",
       "\\textbf{Df Model:}         &           3      & \\textbf{                     } &             \\\\\n",
       "\\textbf{Covariance Type:}  &    nonrobust     & \\textbf{                     } &             \\\\\n",
       "\\bottomrule\n",
       "\\end{tabular}\n",
       "\\begin{tabular}{lcccccc}\n",
       "                    & \\textbf{coef} & \\textbf{std err} & \\textbf{t} & \\textbf{P$> |$t$|$} & \\textbf{[0.025} & \\textbf{0.975]}  \\\\\n",
       "\\midrule\n",
       "\\textbf{Intercept}  &   -2547.0951  &     2914.668     &    -0.874  &         0.383        &    -8295.415    &     3201.225     \\\\\n",
       "\\textbf{enginesize} &     124.3388  &       10.951     &    11.355  &         0.000        &      102.742    &      145.935     \\\\\n",
       "\\textbf{citympg}    &    -151.3184  &       70.849     &    -2.136  &         0.034        &     -291.047    &      -11.590     \\\\\n",
       "\\textbf{horsepower} &      37.0876  &       16.262     &     2.281  &         0.024        &        5.016    &       69.159     \\\\\n",
       "\\bottomrule\n",
       "\\end{tabular}\n",
       "\\begin{tabular}{lclc}\n",
       "\\textbf{Omnibus:}       & 10.990 & \\textbf{  Durbin-Watson:     } &    0.771  \\\\\n",
       "\\textbf{Prob(Omnibus):} &  0.004 & \\textbf{  Jarque-Bera (JB):  } &   17.130  \\\\\n",
       "\\textbf{Skew:}          &  0.312 & \\textbf{  Prob(JB):          } & 0.000191  \\\\\n",
       "\\textbf{Kurtosis:}      &  4.295 & \\textbf{  Cond. No.          } & 1.96e+03  \\\\\n",
       "\\bottomrule\n",
       "\\end{tabular}\n",
       "%\\caption{OLS Regression Results}\n",
       "\\end{center}\n",
       "\n",
       "Notes: \\newline\n",
       " [1] Standard Errors assume that the covariance matrix of the errors is correctly specified. \\newline\n",
       " [2] The condition number is large, 1.96e+03. This might indicate that there are \\newline\n",
       " strong multicollinearity or other numerical problems."
      ],
      "text/plain": [
       "<class 'statsmodels.iolib.summary.Summary'>\n",
       "\"\"\"\n",
       "                            OLS Regression Results                            \n",
       "==============================================================================\n",
       "Dep. Variable:                  price   R-squared:                       0.794\n",
       "Model:                            OLS   Adj. R-squared:                  0.791\n",
       "Method:                 Least Squares   F-statistic:                     251.2\n",
       "Date:                Mon, 15 Sep 2025   Prob (F-statistic):           1.03e-66\n",
       "Time:                        11:07:50   Log-Likelihood:                -1912.4\n",
       "No. Observations:                 199   AIC:                             3833.\n",
       "Df Residuals:                     195   BIC:                             3846.\n",
       "Df Model:                           3                                         \n",
       "Covariance Type:            nonrobust                                         \n",
       "==============================================================================\n",
       "                 coef    std err          t      P>|t|      [0.025      0.975]\n",
       "------------------------------------------------------------------------------\n",
       "Intercept  -2547.0951   2914.668     -0.874      0.383   -8295.415    3201.225\n",
       "enginesize   124.3388     10.951     11.355      0.000     102.742     145.935\n",
       "citympg     -151.3184     70.849     -2.136      0.034    -291.047     -11.590\n",
       "horsepower    37.0876     16.262      2.281      0.024       5.016      69.159\n",
       "==============================================================================\n",
       "Omnibus:                       10.990   Durbin-Watson:                   0.771\n",
       "Prob(Omnibus):                  0.004   Jarque-Bera (JB):               17.130\n",
       "Skew:                           0.312   Prob(JB):                     0.000191\n",
       "Kurtosis:                       4.295   Cond. No.                     1.96e+03\n",
       "==============================================================================\n",
       "\n",
       "Notes:\n",
       "[1] Standard Errors assume that the covariance matrix of the errors is correctly specified.\n",
       "[2] The condition number is large, 1.96e+03. This might indicate that there are\n",
       "strong multicollinearity or other numerical problems.\n",
       "\"\"\""
      ]
     },
     "execution_count": 8,
     "metadata": {},
     "output_type": "execute_result"
    }
   ],
   "source": [
    "#Model summary\n",
    "reg.summary()"
   ]
  },
  {
   "cell_type": "markdown",
   "metadata": {},
   "source": [
    "<b>Anova F test</b>\n",
    "\n",
    "- from global anova: the model is significant compared to the null model\n",
    "\n",
    "- from t test: enginesize, citympg, horsepower are all significant predictors of price\n",
    "\n",
    "But recall that when we extract `anova_lm` seprately, different `typ` can give us the results of either <b>sequential F test</b> results or <b> partial F test </b> results. "
   ]
  },
  {
   "cell_type": "code",
   "execution_count": 9,
   "metadata": {
    "scrolled": true
   },
   "outputs": [
    {
     "data": {
      "text/html": [
       "<div>\n",
       "<style scoped>\n",
       "    .dataframe tbody tr th:only-of-type {\n",
       "        vertical-align: middle;\n",
       "    }\n",
       "\n",
       "    .dataframe tbody tr th {\n",
       "        vertical-align: top;\n",
       "    }\n",
       "\n",
       "    .dataframe thead th {\n",
       "        text-align: right;\n",
       "    }\n",
       "</style>\n",
       "<table border=\"1\" class=\"dataframe\">\n",
       "  <thead>\n",
       "    <tr style=\"text-align: right;\">\n",
       "      <th></th>\n",
       "      <th>df</th>\n",
       "      <th>sum_sq</th>\n",
       "      <th>mean_sq</th>\n",
       "      <th>F</th>\n",
       "      <th>PR(&gt;F)</th>\n",
       "    </tr>\n",
       "  </thead>\n",
       "  <tbody>\n",
       "    <tr>\n",
       "      <th>enginesize</th>\n",
       "      <td>1.0</td>\n",
       "      <td>9.625888e+09</td>\n",
       "      <td>9.625888e+09</td>\n",
       "      <td>724.441229</td>\n",
       "      <td>1.387785e-67</td>\n",
       "    </tr>\n",
       "    <tr>\n",
       "      <th>citympg</th>\n",
       "      <td>1.0</td>\n",
       "      <td>3.186064e+08</td>\n",
       "      <td>3.186064e+08</td>\n",
       "      <td>23.978216</td>\n",
       "      <td>2.039654e-06</td>\n",
       "    </tr>\n",
       "    <tr>\n",
       "      <th>horsepower</th>\n",
       "      <td>1.0</td>\n",
       "      <td>6.911228e+07</td>\n",
       "      <td>6.911228e+07</td>\n",
       "      <td>5.201368</td>\n",
       "      <td>2.365037e-02</td>\n",
       "    </tr>\n",
       "    <tr>\n",
       "      <th>Residual</th>\n",
       "      <td>195.0</td>\n",
       "      <td>2.591029e+09</td>\n",
       "      <td>1.328733e+07</td>\n",
       "      <td>NaN</td>\n",
       "      <td>NaN</td>\n",
       "    </tr>\n",
       "  </tbody>\n",
       "</table>\n",
       "</div>"
      ],
      "text/plain": [
       "               df        sum_sq       mean_sq           F        PR(>F)\n",
       "enginesize    1.0  9.625888e+09  9.625888e+09  724.441229  1.387785e-67\n",
       "citympg       1.0  3.186064e+08  3.186064e+08   23.978216  2.039654e-06\n",
       "horsepower    1.0  6.911228e+07  6.911228e+07    5.201368  2.365037e-02\n",
       "Residual    195.0  2.591029e+09  1.328733e+07         NaN           NaN"
      ]
     },
     "execution_count": 9,
     "metadata": {},
     "output_type": "execute_result"
    }
   ],
   "source": [
    "# typ=1 and typ=2 in anova_lm gives different values in SS and F test\n",
    "sm.stats.anova_lm(reg, typ=1) #sequential"
   ]
  },
  {
   "cell_type": "code",
   "execution_count": 10,
   "metadata": {},
   "outputs": [
    {
     "data": {
      "text/html": [
       "<div>\n",
       "<style scoped>\n",
       "    .dataframe tbody tr th:only-of-type {\n",
       "        vertical-align: middle;\n",
       "    }\n",
       "\n",
       "    .dataframe tbody tr th {\n",
       "        vertical-align: top;\n",
       "    }\n",
       "\n",
       "    .dataframe thead th {\n",
       "        text-align: right;\n",
       "    }\n",
       "</style>\n",
       "<table border=\"1\" class=\"dataframe\">\n",
       "  <thead>\n",
       "    <tr style=\"text-align: right;\">\n",
       "      <th></th>\n",
       "      <th>sum_sq</th>\n",
       "      <th>df</th>\n",
       "      <th>F</th>\n",
       "      <th>PR(&gt;F)</th>\n",
       "    </tr>\n",
       "  </thead>\n",
       "  <tbody>\n",
       "    <tr>\n",
       "      <th>enginesize</th>\n",
       "      <td>1.713088e+09</td>\n",
       "      <td>1.0</td>\n",
       "      <td>128.926426</td>\n",
       "      <td>2.904006e-23</td>\n",
       "    </tr>\n",
       "    <tr>\n",
       "      <th>citympg</th>\n",
       "      <td>6.061127e+07</td>\n",
       "      <td>1.0</td>\n",
       "      <td>4.561585</td>\n",
       "      <td>3.394397e-02</td>\n",
       "    </tr>\n",
       "    <tr>\n",
       "      <th>horsepower</th>\n",
       "      <td>6.911228e+07</td>\n",
       "      <td>1.0</td>\n",
       "      <td>5.201368</td>\n",
       "      <td>2.365037e-02</td>\n",
       "    </tr>\n",
       "    <tr>\n",
       "      <th>Residual</th>\n",
       "      <td>2.591029e+09</td>\n",
       "      <td>195.0</td>\n",
       "      <td>NaN</td>\n",
       "      <td>NaN</td>\n",
       "    </tr>\n",
       "  </tbody>\n",
       "</table>\n",
       "</div>"
      ],
      "text/plain": [
       "                  sum_sq     df           F        PR(>F)\n",
       "enginesize  1.713088e+09    1.0  128.926426  2.904006e-23\n",
       "citympg     6.061127e+07    1.0    4.561585  3.394397e-02\n",
       "horsepower  6.911228e+07    1.0    5.201368  2.365037e-02\n",
       "Residual    2.591029e+09  195.0         NaN           NaN"
      ]
     },
     "execution_count": 10,
     "metadata": {},
     "output_type": "execute_result"
    }
   ],
   "source": [
    "sm.stats.anova_lm(reg, typ=2) #partial\n",
    "\n",
    "#h0: reduced model with the specific predictor dropped \n",
    "#h1: always the full model "
   ]
  },
  {
   "cell_type": "code",
   "execution_count": 11,
   "metadata": {
    "scrolled": true
   },
   "outputs": [
    {
     "data": {
      "text/html": [
       "<div>\n",
       "<style scoped>\n",
       "    .dataframe tbody tr th:only-of-type {\n",
       "        vertical-align: middle;\n",
       "    }\n",
       "\n",
       "    .dataframe tbody tr th {\n",
       "        vertical-align: top;\n",
       "    }\n",
       "\n",
       "    .dataframe thead th {\n",
       "        text-align: right;\n",
       "    }\n",
       "</style>\n",
       "<table border=\"1\" class=\"dataframe\">\n",
       "  <thead>\n",
       "    <tr style=\"text-align: right;\">\n",
       "      <th></th>\n",
       "      <th>sum_sq</th>\n",
       "      <th>df</th>\n",
       "      <th>F</th>\n",
       "      <th>PR(&gt;F)</th>\n",
       "    </tr>\n",
       "  </thead>\n",
       "  <tbody>\n",
       "    <tr>\n",
       "      <th>Intercept</th>\n",
       "      <td>1.014728e+07</td>\n",
       "      <td>1.0</td>\n",
       "      <td>0.763681</td>\n",
       "      <td>3.832538e-01</td>\n",
       "    </tr>\n",
       "    <tr>\n",
       "      <th>enginesize</th>\n",
       "      <td>1.713088e+09</td>\n",
       "      <td>1.0</td>\n",
       "      <td>128.926426</td>\n",
       "      <td>2.904006e-23</td>\n",
       "    </tr>\n",
       "    <tr>\n",
       "      <th>citympg</th>\n",
       "      <td>6.061127e+07</td>\n",
       "      <td>1.0</td>\n",
       "      <td>4.561585</td>\n",
       "      <td>3.394397e-02</td>\n",
       "    </tr>\n",
       "    <tr>\n",
       "      <th>horsepower</th>\n",
       "      <td>6.911228e+07</td>\n",
       "      <td>1.0</td>\n",
       "      <td>5.201368</td>\n",
       "      <td>2.365037e-02</td>\n",
       "    </tr>\n",
       "    <tr>\n",
       "      <th>Residual</th>\n",
       "      <td>2.591029e+09</td>\n",
       "      <td>195.0</td>\n",
       "      <td>NaN</td>\n",
       "      <td>NaN</td>\n",
       "    </tr>\n",
       "  </tbody>\n",
       "</table>\n",
       "</div>"
      ],
      "text/plain": [
       "                  sum_sq     df           F        PR(>F)\n",
       "Intercept   1.014728e+07    1.0    0.763681  3.832538e-01\n",
       "enginesize  1.713088e+09    1.0  128.926426  2.904006e-23\n",
       "citympg     6.061127e+07    1.0    4.561585  3.394397e-02\n",
       "horsepower  6.911228e+07    1.0    5.201368  2.365037e-02\n",
       "Residual    2.591029e+09  195.0         NaN           NaN"
      ]
     },
     "execution_count": 11,
     "metadata": {},
     "output_type": "execute_result"
    }
   ],
   "source": [
    "# typ-3 is the same as typ=2, just added a test on intercept\n",
    "sm.stats.anova_lm(reg, typ=3)"
   ]
  },
  {
   "cell_type": "markdown",
   "metadata": {},
   "source": [
    "## Typ=1"
   ]
  },
  {
   "cell_type": "code",
   "execution_count": 12,
   "metadata": {
    "scrolled": true
   },
   "outputs": [
    {
     "data": {
      "text/html": [
       "<div>\n",
       "<style scoped>\n",
       "    .dataframe tbody tr th:only-of-type {\n",
       "        vertical-align: middle;\n",
       "    }\n",
       "\n",
       "    .dataframe tbody tr th {\n",
       "        vertical-align: top;\n",
       "    }\n",
       "\n",
       "    .dataframe thead th {\n",
       "        text-align: right;\n",
       "    }\n",
       "</style>\n",
       "<table border=\"1\" class=\"dataframe\">\n",
       "  <thead>\n",
       "    <tr style=\"text-align: right;\">\n",
       "      <th></th>\n",
       "      <th>df</th>\n",
       "      <th>sum_sq</th>\n",
       "      <th>mean_sq</th>\n",
       "      <th>F</th>\n",
       "      <th>PR(&gt;F)</th>\n",
       "    </tr>\n",
       "  </thead>\n",
       "  <tbody>\n",
       "    <tr>\n",
       "      <th>enginesize</th>\n",
       "      <td>1.0</td>\n",
       "      <td>9.625888e+09</td>\n",
       "      <td>9.625888e+09</td>\n",
       "      <td>636.609809</td>\n",
       "      <td>1.265067e-63</td>\n",
       "    </tr>\n",
       "    <tr>\n",
       "      <th>Residual</th>\n",
       "      <td>197.0</td>\n",
       "      <td>2.978748e+09</td>\n",
       "      <td>1.512055e+07</td>\n",
       "      <td>NaN</td>\n",
       "      <td>NaN</td>\n",
       "    </tr>\n",
       "  </tbody>\n",
       "</table>\n",
       "</div>"
      ],
      "text/plain": [
       "               df        sum_sq       mean_sq           F        PR(>F)\n",
       "enginesize    1.0  9.625888e+09  9.625888e+09  636.609809  1.265067e-63\n",
       "Residual    197.0  2.978748e+09  1.512055e+07         NaN           NaN"
      ]
     },
     "execution_count": 12,
     "metadata": {},
     "output_type": "execute_result"
    }
   ],
   "source": [
    "#Take a closer look at typ=1: reduced model without citympg\n",
    "reg_reduced_1 = smf.ols('price~enginesize',data=carsnew).fit()\n",
    "sm.stats.anova_lm(reg_reduced_1, typ=1)"
   ]
  },
  {
   "cell_type": "code",
   "execution_count": 13,
   "metadata": {},
   "outputs": [
    {
     "data": {
      "text/html": [
       "<div>\n",
       "<style scoped>\n",
       "    .dataframe tbody tr th:only-of-type {\n",
       "        vertical-align: middle;\n",
       "    }\n",
       "\n",
       "    .dataframe tbody tr th {\n",
       "        vertical-align: top;\n",
       "    }\n",
       "\n",
       "    .dataframe thead th {\n",
       "        text-align: right;\n",
       "    }\n",
       "</style>\n",
       "<table border=\"1\" class=\"dataframe\">\n",
       "  <thead>\n",
       "    <tr style=\"text-align: right;\">\n",
       "      <th></th>\n",
       "      <th>df</th>\n",
       "      <th>sum_sq</th>\n",
       "      <th>mean_sq</th>\n",
       "      <th>F</th>\n",
       "      <th>PR(&gt;F)</th>\n",
       "    </tr>\n",
       "  </thead>\n",
       "  <tbody>\n",
       "    <tr>\n",
       "      <th>enginesize</th>\n",
       "      <td>1.0</td>\n",
       "      <td>9.625888e+09</td>\n",
       "      <td>9.625888e+09</td>\n",
       "      <td>709.238315</td>\n",
       "      <td>4.852522e-67</td>\n",
       "    </tr>\n",
       "    <tr>\n",
       "      <th>citympg</th>\n",
       "      <td>1.0</td>\n",
       "      <td>3.186064e+08</td>\n",
       "      <td>3.186064e+08</td>\n",
       "      <td>23.475016</td>\n",
       "      <td>2.566218e-06</td>\n",
       "    </tr>\n",
       "    <tr>\n",
       "      <th>Residual</th>\n",
       "      <td>196.0</td>\n",
       "      <td>2.660141e+09</td>\n",
       "      <td>1.357215e+07</td>\n",
       "      <td>NaN</td>\n",
       "      <td>NaN</td>\n",
       "    </tr>\n",
       "  </tbody>\n",
       "</table>\n",
       "</div>"
      ],
      "text/plain": [
       "               df        sum_sq       mean_sq           F        PR(>F)\n",
       "enginesize    1.0  9.625888e+09  9.625888e+09  709.238315  4.852522e-67\n",
       "citympg       1.0  3.186064e+08  3.186064e+08   23.475016  2.566218e-06\n",
       "Residual    196.0  2.660141e+09  1.357215e+07         NaN           NaN"
      ]
     },
     "execution_count": 13,
     "metadata": {},
     "output_type": "execute_result"
    }
   ],
   "source": [
    "#Take a closer look at typ=1: full model with citympg\n",
    "reg_full_1 = smf.ols('price~enginesize+citympg',data=carsnew).fit()\n",
    "sm.stats.anova_lm(reg_full_1, typ=1)"
   ]
  },
  {
   "cell_type": "code",
   "execution_count": 14,
   "metadata": {},
   "outputs": [
    {
     "data": {
      "text/plain": [
       "318607000.0"
      ]
     },
     "execution_count": 14,
     "metadata": {},
     "output_type": "execute_result"
    }
   ],
   "source": [
    "## SS(Resid; enginesize only) - SS(Resid; enginesize+citympg) = \n",
    "2.978748e+09 - 2.660141e+09"
   ]
  },
  {
   "cell_type": "markdown",
   "metadata": {},
   "source": [
    "The difference in SSE is the same as the SS for citympg in y~enginesize+citympg+horsepower"
   ]
  },
  {
   "cell_type": "code",
   "execution_count": 15,
   "metadata": {},
   "outputs": [
    {
     "data": {
      "text/html": [
       "<div>\n",
       "<style scoped>\n",
       "    .dataframe tbody tr th:only-of-type {\n",
       "        vertical-align: middle;\n",
       "    }\n",
       "\n",
       "    .dataframe tbody tr th {\n",
       "        vertical-align: top;\n",
       "    }\n",
       "\n",
       "    .dataframe thead th {\n",
       "        text-align: right;\n",
       "    }\n",
       "</style>\n",
       "<table border=\"1\" class=\"dataframe\">\n",
       "  <thead>\n",
       "    <tr style=\"text-align: right;\">\n",
       "      <th></th>\n",
       "      <th>df</th>\n",
       "      <th>sum_sq</th>\n",
       "      <th>mean_sq</th>\n",
       "      <th>F</th>\n",
       "      <th>PR(&gt;F)</th>\n",
       "    </tr>\n",
       "  </thead>\n",
       "  <tbody>\n",
       "    <tr>\n",
       "      <th>enginesize</th>\n",
       "      <td>1.0</td>\n",
       "      <td>9.625888e+09</td>\n",
       "      <td>9.625888e+09</td>\n",
       "      <td>724.441229</td>\n",
       "      <td>1.387785e-67</td>\n",
       "    </tr>\n",
       "    <tr>\n",
       "      <th>citympg</th>\n",
       "      <td>1.0</td>\n",
       "      <td>3.186064e+08</td>\n",
       "      <td>3.186064e+08</td>\n",
       "      <td>23.978216</td>\n",
       "      <td>2.039654e-06</td>\n",
       "    </tr>\n",
       "    <tr>\n",
       "      <th>horsepower</th>\n",
       "      <td>1.0</td>\n",
       "      <td>6.911228e+07</td>\n",
       "      <td>6.911228e+07</td>\n",
       "      <td>5.201368</td>\n",
       "      <td>2.365037e-02</td>\n",
       "    </tr>\n",
       "    <tr>\n",
       "      <th>Residual</th>\n",
       "      <td>195.0</td>\n",
       "      <td>2.591029e+09</td>\n",
       "      <td>1.328733e+07</td>\n",
       "      <td>NaN</td>\n",
       "      <td>NaN</td>\n",
       "    </tr>\n",
       "  </tbody>\n",
       "</table>\n",
       "</div>"
      ],
      "text/plain": [
       "               df        sum_sq       mean_sq           F        PR(>F)\n",
       "enginesize    1.0  9.625888e+09  9.625888e+09  724.441229  1.387785e-67\n",
       "citympg       1.0  3.186064e+08  3.186064e+08   23.978216  2.039654e-06\n",
       "horsepower    1.0  6.911228e+07  6.911228e+07    5.201368  2.365037e-02\n",
       "Residual    195.0  2.591029e+09  1.328733e+07         NaN           NaN"
      ]
     },
     "execution_count": 15,
     "metadata": {},
     "output_type": "execute_result"
    }
   ],
   "source": [
    "sm.stats.anova_lm(reg, typ=1)"
   ]
  },
  {
   "cell_type": "markdown",
   "metadata": {},
   "source": [
    "But, changing the predictor order in typ=1 alters the result because you are comparing different reduced and full models now"
   ]
  },
  {
   "cell_type": "code",
   "execution_count": 16,
   "metadata": {},
   "outputs": [
    {
     "data": {
      "text/html": [
       "<div>\n",
       "<style scoped>\n",
       "    .dataframe tbody tr th:only-of-type {\n",
       "        vertical-align: middle;\n",
       "    }\n",
       "\n",
       "    .dataframe tbody tr th {\n",
       "        vertical-align: top;\n",
       "    }\n",
       "\n",
       "    .dataframe thead th {\n",
       "        text-align: right;\n",
       "    }\n",
       "</style>\n",
       "<table border=\"1\" class=\"dataframe\">\n",
       "  <thead>\n",
       "    <tr style=\"text-align: right;\">\n",
       "      <th></th>\n",
       "      <th>df</th>\n",
       "      <th>sum_sq</th>\n",
       "      <th>mean_sq</th>\n",
       "      <th>F</th>\n",
       "      <th>PR(&gt;F)</th>\n",
       "    </tr>\n",
       "  </thead>\n",
       "  <tbody>\n",
       "    <tr>\n",
       "      <th>citympg</th>\n",
       "      <td>1.0</td>\n",
       "      <td>5.988084e+09</td>\n",
       "      <td>5.988084e+09</td>\n",
       "      <td>450.661312</td>\n",
       "      <td>1.369003e-52</td>\n",
       "    </tr>\n",
       "    <tr>\n",
       "      <th>horsepower</th>\n",
       "      <td>1.0</td>\n",
       "      <td>2.312434e+09</td>\n",
       "      <td>2.312434e+09</td>\n",
       "      <td>174.033076</td>\n",
       "      <td>8.065939e-29</td>\n",
       "    </tr>\n",
       "    <tr>\n",
       "      <th>enginesize</th>\n",
       "      <td>1.0</td>\n",
       "      <td>1.713088e+09</td>\n",
       "      <td>1.713088e+09</td>\n",
       "      <td>128.926426</td>\n",
       "      <td>2.904006e-23</td>\n",
       "    </tr>\n",
       "    <tr>\n",
       "      <th>Residual</th>\n",
       "      <td>195.0</td>\n",
       "      <td>2.591029e+09</td>\n",
       "      <td>1.328733e+07</td>\n",
       "      <td>NaN</td>\n",
       "      <td>NaN</td>\n",
       "    </tr>\n",
       "  </tbody>\n",
       "</table>\n",
       "</div>"
      ],
      "text/plain": [
       "               df        sum_sq       mean_sq           F        PR(>F)\n",
       "citympg       1.0  5.988084e+09  5.988084e+09  450.661312  1.369003e-52\n",
       "horsepower    1.0  2.312434e+09  2.312434e+09  174.033076  8.065939e-29\n",
       "enginesize    1.0  1.713088e+09  1.713088e+09  128.926426  2.904006e-23\n",
       "Residual    195.0  2.591029e+09  1.328733e+07         NaN           NaN"
      ]
     },
     "execution_count": 16,
     "metadata": {},
     "output_type": "execute_result"
    }
   ],
   "source": [
    "reg_order= smf.ols('price~citympg+horsepower+enginesize',data=carsnew).fit()\n",
    "sm.stats.anova_lm(reg_order, typ=1)"
   ]
  },
  {
   "cell_type": "markdown",
   "metadata": {},
   "source": [
    "<b> From sequential F tests </b>\n",
    "\n",
    "- We can kind of \"rank\" the importance of the predictors. \n",
    "- Since in the above example all predictors are significant, we will leave this for the credit data example. "
   ]
  },
  {
   "cell_type": "markdown",
   "metadata": {},
   "source": [
    "## Typ=2"
   ]
  },
  {
   "cell_type": "code",
   "execution_count": 17,
   "metadata": {
    "scrolled": true
   },
   "outputs": [
    {
     "data": {
      "text/html": [
       "<div>\n",
       "<style scoped>\n",
       "    .dataframe tbody tr th:only-of-type {\n",
       "        vertical-align: middle;\n",
       "    }\n",
       "\n",
       "    .dataframe tbody tr th {\n",
       "        vertical-align: top;\n",
       "    }\n",
       "\n",
       "    .dataframe thead th {\n",
       "        text-align: right;\n",
       "    }\n",
       "</style>\n",
       "<table border=\"1\" class=\"dataframe\">\n",
       "  <thead>\n",
       "    <tr style=\"text-align: right;\">\n",
       "      <th></th>\n",
       "      <th>sum_sq</th>\n",
       "      <th>df</th>\n",
       "      <th>F</th>\n",
       "      <th>PR(&gt;F)</th>\n",
       "    </tr>\n",
       "  </thead>\n",
       "  <tbody>\n",
       "    <tr>\n",
       "      <th>enginesize</th>\n",
       "      <td>1.672205e+09</td>\n",
       "      <td>1.0</td>\n",
       "      <td>123.603577</td>\n",
       "      <td>1.403756e-22</td>\n",
       "    </tr>\n",
       "    <tr>\n",
       "      <th>horsepower</th>\n",
       "      <td>3.271074e+08</td>\n",
       "      <td>1.0</td>\n",
       "      <td>24.178641</td>\n",
       "      <td>1.852652e-06</td>\n",
       "    </tr>\n",
       "    <tr>\n",
       "      <th>Residual</th>\n",
       "      <td>2.651640e+09</td>\n",
       "      <td>196.0</td>\n",
       "      <td>NaN</td>\n",
       "      <td>NaN</td>\n",
       "    </tr>\n",
       "  </tbody>\n",
       "</table>\n",
       "</div>"
      ],
      "text/plain": [
       "                  sum_sq     df           F        PR(>F)\n",
       "enginesize  1.672205e+09    1.0  123.603577  1.403756e-22\n",
       "horsepower  3.271074e+08    1.0   24.178641  1.852652e-06\n",
       "Residual    2.651640e+09  196.0         NaN           NaN"
      ]
     },
     "execution_count": 17,
     "metadata": {},
     "output_type": "execute_result"
    }
   ],
   "source": [
    "#Take a closer look at typ=2: reduced model without citympg\n",
    "reg_reduced_2 = smf.ols('price~enginesize+horsepower',data=carsnew).fit()\n",
    "sm.stats.anova_lm(reg_reduced_2, typ=2)\n"
   ]
  },
  {
   "cell_type": "code",
   "execution_count": 18,
   "metadata": {
    "scrolled": true
   },
   "outputs": [
    {
     "data": {
      "text/html": [
       "<div>\n",
       "<style scoped>\n",
       "    .dataframe tbody tr th:only-of-type {\n",
       "        vertical-align: middle;\n",
       "    }\n",
       "\n",
       "    .dataframe tbody tr th {\n",
       "        vertical-align: top;\n",
       "    }\n",
       "\n",
       "    .dataframe thead th {\n",
       "        text-align: right;\n",
       "    }\n",
       "</style>\n",
       "<table border=\"1\" class=\"dataframe\">\n",
       "  <thead>\n",
       "    <tr style=\"text-align: right;\">\n",
       "      <th></th>\n",
       "      <th>sum_sq</th>\n",
       "      <th>df</th>\n",
       "      <th>F</th>\n",
       "      <th>PR(&gt;F)</th>\n",
       "    </tr>\n",
       "  </thead>\n",
       "  <tbody>\n",
       "    <tr>\n",
       "      <th>enginesize</th>\n",
       "      <td>1.713088e+09</td>\n",
       "      <td>1.0</td>\n",
       "      <td>128.926426</td>\n",
       "      <td>2.904006e-23</td>\n",
       "    </tr>\n",
       "    <tr>\n",
       "      <th>citympg</th>\n",
       "      <td>6.061127e+07</td>\n",
       "      <td>1.0</td>\n",
       "      <td>4.561585</td>\n",
       "      <td>3.394397e-02</td>\n",
       "    </tr>\n",
       "    <tr>\n",
       "      <th>horsepower</th>\n",
       "      <td>6.911228e+07</td>\n",
       "      <td>1.0</td>\n",
       "      <td>5.201368</td>\n",
       "      <td>2.365037e-02</td>\n",
       "    </tr>\n",
       "    <tr>\n",
       "      <th>Residual</th>\n",
       "      <td>2.591029e+09</td>\n",
       "      <td>195.0</td>\n",
       "      <td>NaN</td>\n",
       "      <td>NaN</td>\n",
       "    </tr>\n",
       "  </tbody>\n",
       "</table>\n",
       "</div>"
      ],
      "text/plain": [
       "                  sum_sq     df           F        PR(>F)\n",
       "enginesize  1.713088e+09    1.0  128.926426  2.904006e-23\n",
       "citympg     6.061127e+07    1.0    4.561585  3.394397e-02\n",
       "horsepower  6.911228e+07    1.0    5.201368  2.365037e-02\n",
       "Residual    2.591029e+09  195.0         NaN           NaN"
      ]
     },
     "execution_count": 18,
     "metadata": {},
     "output_type": "execute_result"
    }
   ],
   "source": [
    "#full\n",
    "sm.stats.anova_lm(reg, typ=2)"
   ]
  },
  {
   "cell_type": "code",
   "execution_count": 19,
   "metadata": {},
   "outputs": [
    {
     "data": {
      "text/plain": [
       "60611000.0"
      ]
     },
     "execution_count": 19,
     "metadata": {},
     "output_type": "execute_result"
    }
   ],
   "source": [
    "#citympg\t6.061127e+07\t = Residual(red) 2.651640e+09 - Residual(full)\t2.591029e+09\t\n",
    "2.651640e+09 - 2.591029e+09 #approx bc of sigfig issue"
   ]
  },
  {
   "cell_type": "markdown",
   "metadata": {},
   "source": [
    "The difference in SSE (SS Residual) between reduced and full models is the SS of citympg in the full model!!"
   ]
  },
  {
   "cell_type": "markdown",
   "metadata": {},
   "source": [
    "Similar story if we check other reduced models with dropped engine or horsepower:"
   ]
  },
  {
   "cell_type": "code",
   "execution_count": 20,
   "metadata": {},
   "outputs": [
    {
     "data": {
      "text/html": [
       "<div>\n",
       "<style scoped>\n",
       "    .dataframe tbody tr th:only-of-type {\n",
       "        vertical-align: middle;\n",
       "    }\n",
       "\n",
       "    .dataframe tbody tr th {\n",
       "        vertical-align: top;\n",
       "    }\n",
       "\n",
       "    .dataframe thead th {\n",
       "        text-align: right;\n",
       "    }\n",
       "</style>\n",
       "<table border=\"1\" class=\"dataframe\">\n",
       "  <thead>\n",
       "    <tr style=\"text-align: right;\">\n",
       "      <th></th>\n",
       "      <th>sum_sq</th>\n",
       "      <th>df</th>\n",
       "      <th>F</th>\n",
       "      <th>PR(&gt;F)</th>\n",
       "    </tr>\n",
       "  </thead>\n",
       "  <tbody>\n",
       "    <tr>\n",
       "      <th>citympg</th>\n",
       "      <td>1.972876e+07</td>\n",
       "      <td>1.0</td>\n",
       "      <td>0.898404</td>\n",
       "      <td>3.443771e-01</td>\n",
       "    </tr>\n",
       "    <tr>\n",
       "      <th>horsepower</th>\n",
       "      <td>2.312434e+09</td>\n",
       "      <td>1.0</td>\n",
       "      <td>105.303180</td>\n",
       "      <td>4.767363e-20</td>\n",
       "    </tr>\n",
       "    <tr>\n",
       "      <th>Residual</th>\n",
       "      <td>4.304117e+09</td>\n",
       "      <td>196.0</td>\n",
       "      <td>NaN</td>\n",
       "      <td>NaN</td>\n",
       "    </tr>\n",
       "  </tbody>\n",
       "</table>\n",
       "</div>"
      ],
      "text/plain": [
       "                  sum_sq     df           F        PR(>F)\n",
       "citympg     1.972876e+07    1.0    0.898404  3.443771e-01\n",
       "horsepower  2.312434e+09    1.0  105.303180  4.767363e-20\n",
       "Residual    4.304117e+09  196.0         NaN           NaN"
      ]
     },
     "execution_count": 20,
     "metadata": {},
     "output_type": "execute_result"
    }
   ],
   "source": [
    "reg_reduced_noengine = smf.ols('price~citympg+horsepower',data=carsnew).fit()\n",
    "sm.stats.anova_lm(reg_reduced_noengine, typ=2)"
   ]
  },
  {
   "cell_type": "code",
   "execution_count": 21,
   "metadata": {},
   "outputs": [
    {
     "data": {
      "text/plain": [
       "1713088000.0"
      ]
     },
     "execution_count": 21,
     "metadata": {},
     "output_type": "execute_result"
    }
   ],
   "source": [
    "4.304117e+09 - 2.591029e+09 #enginesize\t1.713088e+09\t\n",
    "# = SS(engine) in full model"
   ]
  },
  {
   "cell_type": "code",
   "execution_count": 22,
   "metadata": {},
   "outputs": [
    {
     "data": {
      "text/html": [
       "<div>\n",
       "<style scoped>\n",
       "    .dataframe tbody tr th:only-of-type {\n",
       "        vertical-align: middle;\n",
       "    }\n",
       "\n",
       "    .dataframe tbody tr th {\n",
       "        vertical-align: top;\n",
       "    }\n",
       "\n",
       "    .dataframe thead th {\n",
       "        text-align: right;\n",
       "    }\n",
       "</style>\n",
       "<table border=\"1\" class=\"dataframe\">\n",
       "  <thead>\n",
       "    <tr style=\"text-align: right;\">\n",
       "      <th></th>\n",
       "      <th>sum_sq</th>\n",
       "      <th>df</th>\n",
       "      <th>F</th>\n",
       "      <th>PR(&gt;F)</th>\n",
       "    </tr>\n",
       "  </thead>\n",
       "  <tbody>\n",
       "    <tr>\n",
       "      <th>citympg</th>\n",
       "      <td>3.186064e+08</td>\n",
       "      <td>1.0</td>\n",
       "      <td>23.475016</td>\n",
       "      <td>2.566218e-06</td>\n",
       "    </tr>\n",
       "    <tr>\n",
       "      <th>enginesize</th>\n",
       "      <td>3.956410e+09</td>\n",
       "      <td>1.0</td>\n",
       "      <td>291.509467</td>\n",
       "      <td>1.213994e-40</td>\n",
       "    </tr>\n",
       "    <tr>\n",
       "      <th>Residual</th>\n",
       "      <td>2.660141e+09</td>\n",
       "      <td>196.0</td>\n",
       "      <td>NaN</td>\n",
       "      <td>NaN</td>\n",
       "    </tr>\n",
       "  </tbody>\n",
       "</table>\n",
       "</div>"
      ],
      "text/plain": [
       "                  sum_sq     df           F        PR(>F)\n",
       "citympg     3.186064e+08    1.0   23.475016  2.566218e-06\n",
       "enginesize  3.956410e+09    1.0  291.509467  1.213994e-40\n",
       "Residual    2.660141e+09  196.0         NaN           NaN"
      ]
     },
     "execution_count": 22,
     "metadata": {},
     "output_type": "execute_result"
    }
   ],
   "source": [
    "reg_reduced_nohorse = smf.ols('price~citympg+enginesize',data=carsnew).fit()\n",
    "sm.stats.anova_lm(reg_reduced_nohorse, typ=2)"
   ]
  },
  {
   "cell_type": "code",
   "execution_count": 23,
   "metadata": {},
   "outputs": [
    {
     "data": {
      "text/plain": [
       "69112000.0"
      ]
     },
     "execution_count": 23,
     "metadata": {},
     "output_type": "execute_result"
    }
   ],
   "source": [
    "2.660141e+09 - 2.591029e+09  #horsepower\t~6.911228e+07\n",
    "# = SS(horsepower) in full model"
   ]
  },
  {
   "cell_type": "markdown",
   "metadata": {},
   "source": [
    "<b> From partial F tests </b>\n",
    "\n",
    "- Every reduced model is compared to the same full model:\n",
    "\n",
    "For example, the F test for `enginesize` is comparing \n",
    "\n",
    "- Reduced model: price ~ citympg+ horsepower\n",
    "- Full model: price ~ enginesize+ citympg+ horsepower\n",
    "\n",
    "So it will suggest the significance of one predictor conditional on the fact ALL OTHER predictors are already in the model. We can use it to \n",
    "\n",
    "- judge the \"conditional\" importance of each predictor\n",
    "- pick a reduced model with one less predictor that's better than the full model. "
   ]
  },
  {
   "cell_type": "markdown",
   "metadata": {},
   "source": [
    "<b>Example: Credit data</b>"
   ]
  },
  {
   "cell_type": "code",
   "execution_count": 31,
   "metadata": {},
   "outputs": [
    {
     "name": "stdout",
     "output_type": "stream",
     "text": [
      "<class 'pandas.core.frame.DataFrame'>\n",
      "RangeIndex: 400 entries, 0 to 399\n",
      "Data columns (total 12 columns):\n",
      " #   Column      Non-Null Count  Dtype  \n",
      "---  ------      --------------  -----  \n",
      " 0   Unnamed: 0  400 non-null    int64  \n",
      " 1   Income      400 non-null    float64\n",
      " 2   Limit       400 non-null    int64  \n",
      " 3   Rating      400 non-null    int64  \n",
      " 4   Cards       400 non-null    int64  \n",
      " 5   Age         400 non-null    int64  \n",
      " 6   Education   400 non-null    int64  \n",
      " 7   Gender      400 non-null    object \n",
      " 8   Student     400 non-null    object \n",
      " 9   Married     400 non-null    object \n",
      " 10  Ethnicity   400 non-null    object \n",
      " 11  Balance     400 non-null    int64  \n",
      "dtypes: float64(1), int64(7), object(4)\n",
      "memory usage: 37.6+ KB\n"
     ]
    }
   ],
   "source": [
    "# example: Credit data\n",
    "credit = pd.read_csv(\"../data/Credit.csv\")\n",
    "credit.info()\n"
   ]
  },
  {
   "cell_type": "code",
   "execution_count": 25,
   "metadata": {},
   "outputs": [],
   "source": [
    "credit['Income'] = pd.to_numeric(credit['Income'])"
   ]
  },
  {
   "cell_type": "code",
   "execution_count": 26,
   "metadata": {},
   "outputs": [
    {
     "data": {
      "text/html": [
       "<table class=\"simpletable\">\n",
       "<caption>OLS Regression Results</caption>\n",
       "<tr>\n",
       "  <th>Dep. Variable:</th>         <td>Balance</td>     <th>  R-squared:         </th> <td>   0.877</td> \n",
       "</tr>\n",
       "<tr>\n",
       "  <th>Model:</th>                   <td>OLS</td>       <th>  Adj. R-squared:    </th> <td>   0.876</td> \n",
       "</tr>\n",
       "<tr>\n",
       "  <th>Method:</th>             <td>Least Squares</td>  <th>  F-statistic:       </th> <td>   705.6</td> \n",
       "</tr>\n",
       "<tr>\n",
       "  <th>Date:</th>             <td>Mon, 15 Sep 2025</td> <th>  Prob (F-statistic):</th> <td>2.16e-178</td>\n",
       "</tr>\n",
       "<tr>\n",
       "  <th>Time:</th>                 <td>11:07:56</td>     <th>  Log-Likelihood:    </th> <td> -2599.9</td> \n",
       "</tr>\n",
       "<tr>\n",
       "  <th>No. Observations:</th>      <td>   400</td>      <th>  AIC:               </th> <td>   5210.</td> \n",
       "</tr>\n",
       "<tr>\n",
       "  <th>Df Residuals:</th>          <td>   395</td>      <th>  BIC:               </th> <td>   5230.</td> \n",
       "</tr>\n",
       "<tr>\n",
       "  <th>Df Model:</th>              <td>     4</td>      <th>                     </th>     <td> </td>    \n",
       "</tr>\n",
       "<tr>\n",
       "  <th>Covariance Type:</th>      <td>nonrobust</td>    <th>                     </th>     <td> </td>    \n",
       "</tr>\n",
       "</table>\n",
       "<table class=\"simpletable\">\n",
       "<tr>\n",
       "      <td></td>         <th>coef</th>     <th>std err</th>      <th>t</th>      <th>P>|t|</th>  <th>[0.025</th>    <th>0.975]</th>  \n",
       "</tr>\n",
       "<tr>\n",
       "  <th>Intercept</th> <td> -445.1048</td> <td>   40.576</td> <td>  -10.970</td> <td> 0.000</td> <td> -524.877</td> <td> -365.332</td>\n",
       "</tr>\n",
       "<tr>\n",
       "  <th>Income</th>    <td>   -7.6127</td> <td>    0.382</td> <td>  -19.945</td> <td> 0.000</td> <td>   -8.363</td> <td>   -6.862</td>\n",
       "</tr>\n",
       "<tr>\n",
       "  <th>Limit</th>     <td>    0.0818</td> <td>    0.045</td> <td>    1.834</td> <td> 0.067</td> <td>   -0.006</td> <td>    0.170</td>\n",
       "</tr>\n",
       "<tr>\n",
       "  <th>Rating</th>    <td>    2.7314</td> <td>    0.664</td> <td>    4.111</td> <td> 0.000</td> <td>    1.425</td> <td>    4.038</td>\n",
       "</tr>\n",
       "<tr>\n",
       "  <th>Age</th>       <td>   -0.8561</td> <td>    0.478</td> <td>   -1.789</td> <td> 0.074</td> <td>   -1.797</td> <td>    0.084</td>\n",
       "</tr>\n",
       "</table>\n",
       "<table class=\"simpletable\">\n",
       "<tr>\n",
       "  <th>Omnibus:</th>       <td>94.733</td> <th>  Durbin-Watson:     </th> <td>   1.906</td>\n",
       "</tr>\n",
       "<tr>\n",
       "  <th>Prob(Omnibus):</th> <td> 0.000</td> <th>  Jarque-Bera (JB):  </th> <td> 165.919</td>\n",
       "</tr>\n",
       "<tr>\n",
       "  <th>Skew:</th>          <td> 1.374</td> <th>  Prob(JB):          </th> <td>9.36e-37</td>\n",
       "</tr>\n",
       "<tr>\n",
       "  <th>Kurtosis:</th>      <td> 4.550</td> <th>  Cond. No.          </th> <td>2.65e+04</td>\n",
       "</tr>\n",
       "</table><br/><br/>Notes:<br/>[1] Standard Errors assume that the covariance matrix of the errors is correctly specified.<br/>[2] The condition number is large, 2.65e+04. This might indicate that there are<br/>strong multicollinearity or other numerical problems."
      ],
      "text/latex": [
       "\\begin{center}\n",
       "\\begin{tabular}{lclc}\n",
       "\\toprule\n",
       "\\textbf{Dep. Variable:}    &     Balance      & \\textbf{  R-squared:         } &     0.877   \\\\\n",
       "\\textbf{Model:}            &       OLS        & \\textbf{  Adj. R-squared:    } &     0.876   \\\\\n",
       "\\textbf{Method:}           &  Least Squares   & \\textbf{  F-statistic:       } &     705.6   \\\\\n",
       "\\textbf{Date:}             & Mon, 15 Sep 2025 & \\textbf{  Prob (F-statistic):} & 2.16e-178   \\\\\n",
       "\\textbf{Time:}             &     11:07:56     & \\textbf{  Log-Likelihood:    } &   -2599.9   \\\\\n",
       "\\textbf{No. Observations:} &         400      & \\textbf{  AIC:               } &     5210.   \\\\\n",
       "\\textbf{Df Residuals:}     &         395      & \\textbf{  BIC:               } &     5230.   \\\\\n",
       "\\textbf{Df Model:}         &           4      & \\textbf{                     } &             \\\\\n",
       "\\textbf{Covariance Type:}  &    nonrobust     & \\textbf{                     } &             \\\\\n",
       "\\bottomrule\n",
       "\\end{tabular}\n",
       "\\begin{tabular}{lcccccc}\n",
       "                   & \\textbf{coef} & \\textbf{std err} & \\textbf{t} & \\textbf{P$> |$t$|$} & \\textbf{[0.025} & \\textbf{0.975]}  \\\\\n",
       "\\midrule\n",
       "\\textbf{Intercept} &    -445.1048  &       40.576     &   -10.970  &         0.000        &     -524.877    &     -365.332     \\\\\n",
       "\\textbf{Income}    &      -7.6127  &        0.382     &   -19.945  &         0.000        &       -8.363    &       -6.862     \\\\\n",
       "\\textbf{Limit}     &       0.0818  &        0.045     &     1.834  &         0.067        &       -0.006    &        0.170     \\\\\n",
       "\\textbf{Rating}    &       2.7314  &        0.664     &     4.111  &         0.000        &        1.425    &        4.038     \\\\\n",
       "\\textbf{Age}       &      -0.8561  &        0.478     &    -1.789  &         0.074        &       -1.797    &        0.084     \\\\\n",
       "\\bottomrule\n",
       "\\end{tabular}\n",
       "\\begin{tabular}{lclc}\n",
       "\\textbf{Omnibus:}       & 94.733 & \\textbf{  Durbin-Watson:     } &    1.906  \\\\\n",
       "\\textbf{Prob(Omnibus):} &  0.000 & \\textbf{  Jarque-Bera (JB):  } &  165.919  \\\\\n",
       "\\textbf{Skew:}          &  1.374 & \\textbf{  Prob(JB):          } & 9.36e-37  \\\\\n",
       "\\textbf{Kurtosis:}      &  4.550 & \\textbf{  Cond. No.          } & 2.65e+04  \\\\\n",
       "\\bottomrule\n",
       "\\end{tabular}\n",
       "%\\caption{OLS Regression Results}\n",
       "\\end{center}\n",
       "\n",
       "Notes: \\newline\n",
       " [1] Standard Errors assume that the covariance matrix of the errors is correctly specified. \\newline\n",
       " [2] The condition number is large, 2.65e+04. This might indicate that there are \\newline\n",
       " strong multicollinearity or other numerical problems."
      ],
      "text/plain": [
       "<class 'statsmodels.iolib.summary.Summary'>\n",
       "\"\"\"\n",
       "                            OLS Regression Results                            \n",
       "==============================================================================\n",
       "Dep. Variable:                Balance   R-squared:                       0.877\n",
       "Model:                            OLS   Adj. R-squared:                  0.876\n",
       "Method:                 Least Squares   F-statistic:                     705.6\n",
       "Date:                Mon, 15 Sep 2025   Prob (F-statistic):          2.16e-178\n",
       "Time:                        11:07:56   Log-Likelihood:                -2599.9\n",
       "No. Observations:                 400   AIC:                             5210.\n",
       "Df Residuals:                     395   BIC:                             5230.\n",
       "Df Model:                           4                                         \n",
       "Covariance Type:            nonrobust                                         \n",
       "==============================================================================\n",
       "                 coef    std err          t      P>|t|      [0.025      0.975]\n",
       "------------------------------------------------------------------------------\n",
       "Intercept   -445.1048     40.576    -10.970      0.000    -524.877    -365.332\n",
       "Income        -7.6127      0.382    -19.945      0.000      -8.363      -6.862\n",
       "Limit          0.0818      0.045      1.834      0.067      -0.006       0.170\n",
       "Rating         2.7314      0.664      4.111      0.000       1.425       4.038\n",
       "Age           -0.8561      0.478     -1.789      0.074      -1.797       0.084\n",
       "==============================================================================\n",
       "Omnibus:                       94.733   Durbin-Watson:                   1.906\n",
       "Prob(Omnibus):                  0.000   Jarque-Bera (JB):              165.919\n",
       "Skew:                           1.374   Prob(JB):                     9.36e-37\n",
       "Kurtosis:                       4.550   Cond. No.                     2.65e+04\n",
       "==============================================================================\n",
       "\n",
       "Notes:\n",
       "[1] Standard Errors assume that the covariance matrix of the errors is correctly specified.\n",
       "[2] The condition number is large, 2.65e+04. This might indicate that there are\n",
       "strong multicollinearity or other numerical problems.\n",
       "\"\"\""
      ]
     },
     "execution_count": 26,
     "metadata": {},
     "output_type": "execute_result"
    }
   ],
   "source": [
    "model =smf.ols('Balance~Income + Limit +Rating + Age',data=credit).fit()\n",
    "model.summary()"
   ]
  },
  {
   "cell_type": "markdown",
   "metadata": {},
   "source": [
    "From individual t-testing, Income and Rating are significant, while Limit is on the boundary. So t-tests suggests the model: y~Income+Rating"
   ]
  },
  {
   "cell_type": "code",
   "execution_count": 27,
   "metadata": {},
   "outputs": [
    {
     "data": {
      "text/html": [
       "<div>\n",
       "<style scoped>\n",
       "    .dataframe tbody tr th:only-of-type {\n",
       "        vertical-align: middle;\n",
       "    }\n",
       "\n",
       "    .dataframe tbody tr th {\n",
       "        vertical-align: top;\n",
       "    }\n",
       "\n",
       "    .dataframe thead th {\n",
       "        text-align: right;\n",
       "    }\n",
       "</style>\n",
       "<table border=\"1\" class=\"dataframe\">\n",
       "  <thead>\n",
       "    <tr style=\"text-align: right;\">\n",
       "      <th></th>\n",
       "      <th>df</th>\n",
       "      <th>sum_sq</th>\n",
       "      <th>mean_sq</th>\n",
       "      <th>F</th>\n",
       "      <th>PR(&gt;F)</th>\n",
       "    </tr>\n",
       "  </thead>\n",
       "  <tbody>\n",
       "    <tr>\n",
       "      <th>Income</th>\n",
       "      <td>1.0</td>\n",
       "      <td>1.813117e+07</td>\n",
       "      <td>1.813117e+07</td>\n",
       "      <td>691.691426</td>\n",
       "      <td>7.902872e-89</td>\n",
       "    </tr>\n",
       "    <tr>\n",
       "      <th>Limit</th>\n",
       "      <td>1.0</td>\n",
       "      <td>5.533791e+07</td>\n",
       "      <td>5.533791e+07</td>\n",
       "      <td>2111.102870</td>\n",
       "      <td>1.465723e-160</td>\n",
       "    </tr>\n",
       "    <tr>\n",
       "      <th>Rating</th>\n",
       "      <td>1.0</td>\n",
       "      <td>4.328357e+05</td>\n",
       "      <td>4.328357e+05</td>\n",
       "      <td>16.512381</td>\n",
       "      <td>5.832806e-05</td>\n",
       "    </tr>\n",
       "    <tr>\n",
       "      <th>Age</th>\n",
       "      <td>1.0</td>\n",
       "      <td>8.394134e+04</td>\n",
       "      <td>8.394134e+04</td>\n",
       "      <td>3.202304</td>\n",
       "      <td>7.430058e-02</td>\n",
       "    </tr>\n",
       "    <tr>\n",
       "      <th>Residual</th>\n",
       "      <td>395.0</td>\n",
       "      <td>1.035406e+07</td>\n",
       "      <td>2.621280e+04</td>\n",
       "      <td>NaN</td>\n",
       "      <td>NaN</td>\n",
       "    </tr>\n",
       "  </tbody>\n",
       "</table>\n",
       "</div>"
      ],
      "text/plain": [
       "             df        sum_sq       mean_sq            F         PR(>F)\n",
       "Income      1.0  1.813117e+07  1.813117e+07   691.691426   7.902872e-89\n",
       "Limit       1.0  5.533791e+07  5.533791e+07  2111.102870  1.465723e-160\n",
       "Rating      1.0  4.328357e+05  4.328357e+05    16.512381   5.832806e-05\n",
       "Age         1.0  8.394134e+04  8.394134e+04     3.202304   7.430058e-02\n",
       "Residual  395.0  1.035406e+07  2.621280e+04          NaN            NaN"
      ]
     },
     "execution_count": 27,
     "metadata": {},
     "output_type": "execute_result"
    }
   ],
   "source": [
    "# try sequential anova with the same order\n",
    "\n",
    "sm.stats.anova_lm(model, typ=1)\n",
    "\n"
   ]
  },
  {
   "cell_type": "markdown",
   "metadata": {},
   "source": [
    "Here:\n",
    "- p-values disagree with t tests\n",
    "- Suggests y\\~Income+Limit is sig. better than just y\\~Income, and  y\\~Income+Limit+Rating is sig. better than y\\~Income+Limit\n",
    "- y~ Income+Limit+ Rating is the best model according to seq. F-test (since adding age is not significant; 7.430058e-02>0.05)"
   ]
  },
  {
   "cell_type": "code",
   "execution_count": 34,
   "metadata": {},
   "outputs": [
    {
     "data": {
      "text/html": [
       "<div>\n",
       "<style scoped>\n",
       "    .dataframe tbody tr th:only-of-type {\n",
       "        vertical-align: middle;\n",
       "    }\n",
       "\n",
       "    .dataframe tbody tr th {\n",
       "        vertical-align: top;\n",
       "    }\n",
       "\n",
       "    .dataframe thead th {\n",
       "        text-align: right;\n",
       "    }\n",
       "</style>\n",
       "<table border=\"1\" class=\"dataframe\">\n",
       "  <thead>\n",
       "    <tr style=\"text-align: right;\">\n",
       "      <th></th>\n",
       "      <th>df</th>\n",
       "      <th>sum_sq</th>\n",
       "      <th>mean_sq</th>\n",
       "      <th>F</th>\n",
       "      <th>PR(&gt;F)</th>\n",
       "    </tr>\n",
       "  </thead>\n",
       "  <tbody>\n",
       "    <tr>\n",
       "      <th>Age</th>\n",
       "      <td>1.0</td>\n",
       "      <td>2.840283e+02</td>\n",
       "      <td>2.840283e+02</td>\n",
       "      <td>0.010835</td>\n",
       "      <td>9.171479e-01</td>\n",
       "    </tr>\n",
       "    <tr>\n",
       "      <th>Income</th>\n",
       "      <td>1.0</td>\n",
       "      <td>1.868031e+07</td>\n",
       "      <td>1.868031e+07</td>\n",
       "      <td>712.640837</td>\n",
       "      <td>1.809916e-90</td>\n",
       "    </tr>\n",
       "    <tr>\n",
       "      <th>Rating</th>\n",
       "      <td>1.0</td>\n",
       "      <td>5.521706e+07</td>\n",
       "      <td>5.521706e+07</td>\n",
       "      <td>2106.492535</td>\n",
       "      <td>2.108937e-160</td>\n",
       "    </tr>\n",
       "    <tr>\n",
       "      <th>Limit</th>\n",
       "      <td>1.0</td>\n",
       "      <td>8.820013e+04</td>\n",
       "      <td>8.820013e+04</td>\n",
       "      <td>3.364774</td>\n",
       "      <td>6.735675e-02</td>\n",
       "    </tr>\n",
       "    <tr>\n",
       "      <th>Residual</th>\n",
       "      <td>395.0</td>\n",
       "      <td>1.035406e+07</td>\n",
       "      <td>2.621280e+04</td>\n",
       "      <td>NaN</td>\n",
       "      <td>NaN</td>\n",
       "    </tr>\n",
       "  </tbody>\n",
       "</table>\n",
       "</div>"
      ],
      "text/plain": [
       "             df        sum_sq       mean_sq            F         PR(>F)\n",
       "Age         1.0  2.840283e+02  2.840283e+02     0.010835   9.171479e-01\n",
       "Income      1.0  1.868031e+07  1.868031e+07   712.640837   1.809916e-90\n",
       "Rating      1.0  5.521706e+07  5.521706e+07  2106.492535  2.108937e-160\n",
       "Limit       1.0  8.820013e+04  8.820013e+04     3.364774   6.735675e-02\n",
       "Residual  395.0  1.035406e+07  2.621280e+04          NaN            NaN"
      ]
     },
     "execution_count": 34,
     "metadata": {},
     "output_type": "execute_result"
    }
   ],
   "source": [
    "#Now consider putting the questionable one (Limit) at the end \n",
    "model_2 =smf.ols('Balance~Age + Income + Rating +Limit',data=credit).fit()\n",
    "sm.stats.anova_lm(model_2, typ=1)"
   ]
  },
  {
   "cell_type": "markdown",
   "metadata": {},
   "source": [
    "Now the sequential anova suggests y~Income+Rating might be enough, adding Limit doesn't significantly improve it anymore.\n",
    "\n",
    "- limit might be on the boundary"
   ]
  },
  {
   "cell_type": "markdown",
   "metadata": {},
   "source": [
    "<b>Can you try typ=2?</b> What does that tell us?"
   ]
  },
  {
   "cell_type": "markdown",
   "metadata": {},
   "source": [
    "For the candidates, let's look at R^2 and adj-R^2"
   ]
  },
  {
   "cell_type": "code",
   "execution_count": 36,
   "metadata": {},
   "outputs": [],
   "source": [
    "model_c1 = smf.ols('Balance~Income + Rating ',data=credit).fit() #from t test and anova(typ=2)\n",
    "model_c2 = smf.ols('Balance~Income + Rating +Limit',data=credit).fit()#from anova(typ=1)\n",
    "model_c3 = smf.ols('Balance~Income + Rating +Age',data=credit).fit() #not that strong\n",
    "model_c4 = smf.ols('Balance~Income + Rating +Age + Limit',data=credit).fit() #not that strong"
   ]
  },
  {
   "cell_type": "code",
   "execution_count": 37,
   "metadata": {},
   "outputs": [
    {
     "name": "stdout",
     "output_type": "stream",
     "text": [
      "0.8751179476994355 0.8744888189724805\n",
      "0.8762389456262863 0.8753013618810309\n",
      "0.8761884500989228 0.8752504838117934\n",
      "0.8772342199048692 0.875991022131754\n"
     ]
    }
   ],
   "source": [
    "print(model_c1.rsquared, model_c1.rsquared_adj)\n",
    "print(model_c2.rsquared, model_c2.rsquared_adj)\n",
    "print(model_c3.rsquared, model_c3.rsquared_adj)\n",
    "print(model_c4.rsquared, model_c4.rsquared_adj)\n"
   ]
  },
  {
   "cell_type": "markdown",
   "metadata": {},
   "source": [
    "Out of possible candidates , based on adjusted R^2, model_c2 is the best choice;\n",
    "\n",
    "the analysis during the way suggests the possible ranking of importance:\n",
    "Rating ~ Income ~ Rating > Limit > Age "
   ]
  },
  {
   "cell_type": "markdown",
   "metadata": {},
   "source": [
    "### Remark \n",
    "\n",
    "You can already see that different methods lead to different conclusions. After we learn modeling diagnosis and more selection methods, we will consider many model selection criteria, and argue to make a decision based on a specific one which makes sense in terms of interpretation and prediction for the problem at hand; if still hard to decide, you can try the prediction on a test set to go with the one with better prediction performance. \n",
    "\n"
   ]
  },
  {
   "cell_type": "code",
   "execution_count": null,
   "metadata": {},
   "outputs": [],
   "source": []
  },
  {
   "cell_type": "code",
   "execution_count": null,
   "metadata": {},
   "outputs": [],
   "source": []
  },
  {
   "cell_type": "code",
   "execution_count": null,
   "metadata": {},
   "outputs": [],
   "source": []
  }
 ],
 "metadata": {
  "kernelspec": {
   "display_name": "linear_regression",
   "language": "python",
   "name": "python3"
  },
  "language_info": {
   "codemirror_mode": {
    "name": "ipython",
    "version": 3
   },
   "file_extension": ".py",
   "mimetype": "text/x-python",
   "name": "python",
   "nbconvert_exporter": "python",
   "pygments_lexer": "ipython3",
   "version": "3.13.5"
  }
 },
 "nbformat": 4,
 "nbformat_minor": 4
}
